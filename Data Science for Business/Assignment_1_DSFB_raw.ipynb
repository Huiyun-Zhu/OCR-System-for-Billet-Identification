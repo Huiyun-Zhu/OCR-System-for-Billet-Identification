{
  "cells": [
    {
      "cell_type": "markdown",
      "metadata": {
        "id": "LRQftt_U1ci8"
      },
      "source": [
        "# Data Science for Business - Assignment 1\n",
        "# Data Visualisation & Binary Decision Making: Churn Analysis\n",
        "### Name Last_Name\n",
        "\n",
        "References:\n",
        "\n",
        "1- Marketing Series: Customer Churn by Möbius: https://www.kaggle.com/datasets/arashnic/marketing-series-customer-churn  Uploaded under CC0 licence.\n",
        "\n",
        "2- Exercise 1 from this course\n",
        "\n",
        "3-Discussion with George Lee\n"
      ]
    },
    {
      "cell_type": "markdown",
      "metadata": {
        "id": "OB0BCobJ3JKD"
      },
      "source": [
        "### 1- Import the training dataset in Google Colab and show a few lines of it. Check if the dataset has missing values. Show the indicators that have numerical values and the indicators that have string values."
      ]
    },
    {
      "cell_type": "code",
      "source": [
        "from google.colab import drive\n",
        "drive.mount ('/content/drive/')"
      ],
      "metadata": {
        "colab": {
          "base_uri": "https://localhost:8080/"
        },
        "id": "9_n-Kyp01DlD",
        "outputId": "27ccc0c1-990d-4f16-efc5-652cb3743b94"
      },
      "execution_count": 1,
      "outputs": [
        {
          "output_type": "stream",
          "name": "stdout",
          "text": [
            "Mounted at /content/drive/\n"
          ]
        }
      ]
    },
    {
      "cell_type": "code",
      "source": [
        "import pandas as pd\n",
        "train_data = pd.read_csv('/content/drive/My Drive/Data Science for Business/Assignment_1-Train.csv')"
      ],
      "metadata": {
        "id": "iUcNKSVC1XX9"
      },
      "execution_count": 2,
      "outputs": []
    },
    {
      "cell_type": "code",
      "source": [
        "train_data.head(n=100)"
      ],
      "metadata": {
        "colab": {
          "base_uri": "https://localhost:8080/",
          "height": 614
        },
        "id": "y2OucCMV2x_3",
        "outputId": "12bedef0-64f2-482f-aa0c-d2a5500f836e"
      },
      "execution_count": 3,
      "outputs": [
        {
          "output_type": "execute_result",
          "data": {
            "text/plain": [
              "    CustomerID  Gender  Senior Citizen  Partner  Tenure  Phone Service  \\\n",
              "0   7590-VHVEG  Female               0        1       1              0   \n",
              "1   5575-GNVDE    Male               0        0      34              1   \n",
              "2   3668-QPYBK    Male               0        0       2              1   \n",
              "3   7795-CFOCW    Male               0        0      45              0   \n",
              "4   9237-HQITU  Female               0        0       2              1   \n",
              "..         ...     ...             ...      ...     ...            ...   \n",
              "95  8637-XJIVR  Female               0        0      12              1   \n",
              "96  9803-FTJCG    Male               0        1      71              1   \n",
              "97  0278-YXOOG    Male               0        0       5              1   \n",
              "98  3212-KXOCR    Male               0        0      52              1   \n",
              "99  4598-XLKNJ  Female               1        1      25              1   \n",
              "\n",
              "    Multiple Lines  Online Backup  Streaming TV  Streaming Movies  \\\n",
              "0                0              1             0                 0   \n",
              "1                0              0             0                 0   \n",
              "2                0              1             0                 0   \n",
              "3                0              0             0                 0   \n",
              "4                0              0             0                 0   \n",
              "..             ...            ...           ...               ...   \n",
              "95               1              0             0                 0   \n",
              "96               1              1             0                 0   \n",
              "97               0              0             0                 0   \n",
              "98               0              0             0                 0   \n",
              "99               0              1             1                 1   \n",
              "\n",
              "          Contract             Payment Method  Monthly Charges  Churn  \n",
              "0   Month-to-month           Electronic check            29.85      0  \n",
              "1         One year               Mailed check            56.95      0  \n",
              "2   Month-to-month               Mailed check            53.85      1  \n",
              "3         One year  Bank transfer (automatic)            42.30      0  \n",
              "4   Month-to-month           Electronic check            70.70      1  \n",
              "..             ...                        ...              ...    ...  \n",
              "95  Month-to-month           Electronic check            78.95      1  \n",
              "96        One year    Credit card (automatic)            66.85      0  \n",
              "97  Month-to-month               Mailed check            21.05      1  \n",
              "98        Two year  Bank transfer (automatic)            21.00      0  \n",
              "99  Month-to-month           Electronic check            98.50      1  \n",
              "\n",
              "[100 rows x 14 columns]"
            ],
            "text/html": [
              "\n",
              "  <div id=\"df-ec2b31f7-7791-41ae-8c9b-bf68d3fcf44e\" class=\"colab-df-container\">\n",
              "    <div>\n",
              "<style scoped>\n",
              "    .dataframe tbody tr th:only-of-type {\n",
              "        vertical-align: middle;\n",
              "    }\n",
              "\n",
              "    .dataframe tbody tr th {\n",
              "        vertical-align: top;\n",
              "    }\n",
              "\n",
              "    .dataframe thead th {\n",
              "        text-align: right;\n",
              "    }\n",
              "</style>\n",
              "<table border=\"1\" class=\"dataframe\">\n",
              "  <thead>\n",
              "    <tr style=\"text-align: right;\">\n",
              "      <th></th>\n",
              "      <th>CustomerID</th>\n",
              "      <th>Gender</th>\n",
              "      <th>Senior Citizen</th>\n",
              "      <th>Partner</th>\n",
              "      <th>Tenure</th>\n",
              "      <th>Phone Service</th>\n",
              "      <th>Multiple Lines</th>\n",
              "      <th>Online Backup</th>\n",
              "      <th>Streaming TV</th>\n",
              "      <th>Streaming Movies</th>\n",
              "      <th>Contract</th>\n",
              "      <th>Payment Method</th>\n",
              "      <th>Monthly Charges</th>\n",
              "      <th>Churn</th>\n",
              "    </tr>\n",
              "  </thead>\n",
              "  <tbody>\n",
              "    <tr>\n",
              "      <th>0</th>\n",
              "      <td>7590-VHVEG</td>\n",
              "      <td>Female</td>\n",
              "      <td>0</td>\n",
              "      <td>1</td>\n",
              "      <td>1</td>\n",
              "      <td>0</td>\n",
              "      <td>0</td>\n",
              "      <td>1</td>\n",
              "      <td>0</td>\n",
              "      <td>0</td>\n",
              "      <td>Month-to-month</td>\n",
              "      <td>Electronic check</td>\n",
              "      <td>29.85</td>\n",
              "      <td>0</td>\n",
              "    </tr>\n",
              "    <tr>\n",
              "      <th>1</th>\n",
              "      <td>5575-GNVDE</td>\n",
              "      <td>Male</td>\n",
              "      <td>0</td>\n",
              "      <td>0</td>\n",
              "      <td>34</td>\n",
              "      <td>1</td>\n",
              "      <td>0</td>\n",
              "      <td>0</td>\n",
              "      <td>0</td>\n",
              "      <td>0</td>\n",
              "      <td>One year</td>\n",
              "      <td>Mailed check</td>\n",
              "      <td>56.95</td>\n",
              "      <td>0</td>\n",
              "    </tr>\n",
              "    <tr>\n",
              "      <th>2</th>\n",
              "      <td>3668-QPYBK</td>\n",
              "      <td>Male</td>\n",
              "      <td>0</td>\n",
              "      <td>0</td>\n",
              "      <td>2</td>\n",
              "      <td>1</td>\n",
              "      <td>0</td>\n",
              "      <td>1</td>\n",
              "      <td>0</td>\n",
              "      <td>0</td>\n",
              "      <td>Month-to-month</td>\n",
              "      <td>Mailed check</td>\n",
              "      <td>53.85</td>\n",
              "      <td>1</td>\n",
              "    </tr>\n",
              "    <tr>\n",
              "      <th>3</th>\n",
              "      <td>7795-CFOCW</td>\n",
              "      <td>Male</td>\n",
              "      <td>0</td>\n",
              "      <td>0</td>\n",
              "      <td>45</td>\n",
              "      <td>0</td>\n",
              "      <td>0</td>\n",
              "      <td>0</td>\n",
              "      <td>0</td>\n",
              "      <td>0</td>\n",
              "      <td>One year</td>\n",
              "      <td>Bank transfer (automatic)</td>\n",
              "      <td>42.30</td>\n",
              "      <td>0</td>\n",
              "    </tr>\n",
              "    <tr>\n",
              "      <th>4</th>\n",
              "      <td>9237-HQITU</td>\n",
              "      <td>Female</td>\n",
              "      <td>0</td>\n",
              "      <td>0</td>\n",
              "      <td>2</td>\n",
              "      <td>1</td>\n",
              "      <td>0</td>\n",
              "      <td>0</td>\n",
              "      <td>0</td>\n",
              "      <td>0</td>\n",
              "      <td>Month-to-month</td>\n",
              "      <td>Electronic check</td>\n",
              "      <td>70.70</td>\n",
              "      <td>1</td>\n",
              "    </tr>\n",
              "    <tr>\n",
              "      <th>...</th>\n",
              "      <td>...</td>\n",
              "      <td>...</td>\n",
              "      <td>...</td>\n",
              "      <td>...</td>\n",
              "      <td>...</td>\n",
              "      <td>...</td>\n",
              "      <td>...</td>\n",
              "      <td>...</td>\n",
              "      <td>...</td>\n",
              "      <td>...</td>\n",
              "      <td>...</td>\n",
              "      <td>...</td>\n",
              "      <td>...</td>\n",
              "      <td>...</td>\n",
              "    </tr>\n",
              "    <tr>\n",
              "      <th>95</th>\n",
              "      <td>8637-XJIVR</td>\n",
              "      <td>Female</td>\n",
              "      <td>0</td>\n",
              "      <td>0</td>\n",
              "      <td>12</td>\n",
              "      <td>1</td>\n",
              "      <td>1</td>\n",
              "      <td>0</td>\n",
              "      <td>0</td>\n",
              "      <td>0</td>\n",
              "      <td>Month-to-month</td>\n",
              "      <td>Electronic check</td>\n",
              "      <td>78.95</td>\n",
              "      <td>1</td>\n",
              "    </tr>\n",
              "    <tr>\n",
              "      <th>96</th>\n",
              "      <td>9803-FTJCG</td>\n",
              "      <td>Male</td>\n",
              "      <td>0</td>\n",
              "      <td>1</td>\n",
              "      <td>71</td>\n",
              "      <td>1</td>\n",
              "      <td>1</td>\n",
              "      <td>1</td>\n",
              "      <td>0</td>\n",
              "      <td>0</td>\n",
              "      <td>One year</td>\n",
              "      <td>Credit card (automatic)</td>\n",
              "      <td>66.85</td>\n",
              "      <td>0</td>\n",
              "    </tr>\n",
              "    <tr>\n",
              "      <th>97</th>\n",
              "      <td>0278-YXOOG</td>\n",
              "      <td>Male</td>\n",
              "      <td>0</td>\n",
              "      <td>0</td>\n",
              "      <td>5</td>\n",
              "      <td>1</td>\n",
              "      <td>0</td>\n",
              "      <td>0</td>\n",
              "      <td>0</td>\n",
              "      <td>0</td>\n",
              "      <td>Month-to-month</td>\n",
              "      <td>Mailed check</td>\n",
              "      <td>21.05</td>\n",
              "      <td>1</td>\n",
              "    </tr>\n",
              "    <tr>\n",
              "      <th>98</th>\n",
              "      <td>3212-KXOCR</td>\n",
              "      <td>Male</td>\n",
              "      <td>0</td>\n",
              "      <td>0</td>\n",
              "      <td>52</td>\n",
              "      <td>1</td>\n",
              "      <td>0</td>\n",
              "      <td>0</td>\n",
              "      <td>0</td>\n",
              "      <td>0</td>\n",
              "      <td>Two year</td>\n",
              "      <td>Bank transfer (automatic)</td>\n",
              "      <td>21.00</td>\n",
              "      <td>0</td>\n",
              "    </tr>\n",
              "    <tr>\n",
              "      <th>99</th>\n",
              "      <td>4598-XLKNJ</td>\n",
              "      <td>Female</td>\n",
              "      <td>1</td>\n",
              "      <td>1</td>\n",
              "      <td>25</td>\n",
              "      <td>1</td>\n",
              "      <td>0</td>\n",
              "      <td>1</td>\n",
              "      <td>1</td>\n",
              "      <td>1</td>\n",
              "      <td>Month-to-month</td>\n",
              "      <td>Electronic check</td>\n",
              "      <td>98.50</td>\n",
              "      <td>1</td>\n",
              "    </tr>\n",
              "  </tbody>\n",
              "</table>\n",
              "<p>100 rows × 14 columns</p>\n",
              "</div>\n",
              "    <div class=\"colab-df-buttons\">\n",
              "\n",
              "  <div class=\"colab-df-container\">\n",
              "    <button class=\"colab-df-convert\" onclick=\"convertToInteractive('df-ec2b31f7-7791-41ae-8c9b-bf68d3fcf44e')\"\n",
              "            title=\"Convert this dataframe to an interactive table.\"\n",
              "            style=\"display:none;\">\n",
              "\n",
              "  <svg xmlns=\"http://www.w3.org/2000/svg\" height=\"24px\" viewBox=\"0 -960 960 960\">\n",
              "    <path d=\"M120-120v-720h720v720H120Zm60-500h600v-160H180v160Zm220 220h160v-160H400v160Zm0 220h160v-160H400v160ZM180-400h160v-160H180v160Zm440 0h160v-160H620v160ZM180-180h160v-160H180v160Zm440 0h160v-160H620v160Z\"/>\n",
              "  </svg>\n",
              "    </button>\n",
              "\n",
              "  <style>\n",
              "    .colab-df-container {\n",
              "      display:flex;\n",
              "      gap: 12px;\n",
              "    }\n",
              "\n",
              "    .colab-df-convert {\n",
              "      background-color: #E8F0FE;\n",
              "      border: none;\n",
              "      border-radius: 50%;\n",
              "      cursor: pointer;\n",
              "      display: none;\n",
              "      fill: #1967D2;\n",
              "      height: 32px;\n",
              "      padding: 0 0 0 0;\n",
              "      width: 32px;\n",
              "    }\n",
              "\n",
              "    .colab-df-convert:hover {\n",
              "      background-color: #E2EBFA;\n",
              "      box-shadow: 0px 1px 2px rgba(60, 64, 67, 0.3), 0px 1px 3px 1px rgba(60, 64, 67, 0.15);\n",
              "      fill: #174EA6;\n",
              "    }\n",
              "\n",
              "    .colab-df-buttons div {\n",
              "      margin-bottom: 4px;\n",
              "    }\n",
              "\n",
              "    [theme=dark] .colab-df-convert {\n",
              "      background-color: #3B4455;\n",
              "      fill: #D2E3FC;\n",
              "    }\n",
              "\n",
              "    [theme=dark] .colab-df-convert:hover {\n",
              "      background-color: #434B5C;\n",
              "      box-shadow: 0px 1px 3px 1px rgba(0, 0, 0, 0.15);\n",
              "      filter: drop-shadow(0px 1px 2px rgba(0, 0, 0, 0.3));\n",
              "      fill: #FFFFFF;\n",
              "    }\n",
              "  </style>\n",
              "\n",
              "    <script>\n",
              "      const buttonEl =\n",
              "        document.querySelector('#df-ec2b31f7-7791-41ae-8c9b-bf68d3fcf44e button.colab-df-convert');\n",
              "      buttonEl.style.display =\n",
              "        google.colab.kernel.accessAllowed ? 'block' : 'none';\n",
              "\n",
              "      async function convertToInteractive(key) {\n",
              "        const element = document.querySelector('#df-ec2b31f7-7791-41ae-8c9b-bf68d3fcf44e');\n",
              "        const dataTable =\n",
              "          await google.colab.kernel.invokeFunction('convertToInteractive',\n",
              "                                                    [key], {});\n",
              "        if (!dataTable) return;\n",
              "\n",
              "        const docLinkHtml = 'Like what you see? Visit the ' +\n",
              "          '<a target=\"_blank\" href=https://colab.research.google.com/notebooks/data_table.ipynb>data table notebook</a>'\n",
              "          + ' to learn more about interactive tables.';\n",
              "        element.innerHTML = '';\n",
              "        dataTable['output_type'] = 'display_data';\n",
              "        await google.colab.output.renderOutput(dataTable, element);\n",
              "        const docLink = document.createElement('div');\n",
              "        docLink.innerHTML = docLinkHtml;\n",
              "        element.appendChild(docLink);\n",
              "      }\n",
              "    </script>\n",
              "  </div>\n",
              "\n",
              "\n",
              "<div id=\"df-d272fc44-7837-49d8-ab2f-4d8e80504da6\">\n",
              "  <button class=\"colab-df-quickchart\" onclick=\"quickchart('df-d272fc44-7837-49d8-ab2f-4d8e80504da6')\"\n",
              "            title=\"Suggest charts.\"\n",
              "            style=\"display:none;\">\n",
              "\n",
              "<svg xmlns=\"http://www.w3.org/2000/svg\" height=\"24px\"viewBox=\"0 0 24 24\"\n",
              "     width=\"24px\">\n",
              "    <g>\n",
              "        <path d=\"M19 3H5c-1.1 0-2 .9-2 2v14c0 1.1.9 2 2 2h14c1.1 0 2-.9 2-2V5c0-1.1-.9-2-2-2zM9 17H7v-7h2v7zm4 0h-2V7h2v10zm4 0h-2v-4h2v4z\"/>\n",
              "    </g>\n",
              "</svg>\n",
              "  </button>\n",
              "\n",
              "<style>\n",
              "  .colab-df-quickchart {\n",
              "      --bg-color: #E8F0FE;\n",
              "      --fill-color: #1967D2;\n",
              "      --hover-bg-color: #E2EBFA;\n",
              "      --hover-fill-color: #174EA6;\n",
              "      --disabled-fill-color: #AAA;\n",
              "      --disabled-bg-color: #DDD;\n",
              "  }\n",
              "\n",
              "  [theme=dark] .colab-df-quickchart {\n",
              "      --bg-color: #3B4455;\n",
              "      --fill-color: #D2E3FC;\n",
              "      --hover-bg-color: #434B5C;\n",
              "      --hover-fill-color: #FFFFFF;\n",
              "      --disabled-bg-color: #3B4455;\n",
              "      --disabled-fill-color: #666;\n",
              "  }\n",
              "\n",
              "  .colab-df-quickchart {\n",
              "    background-color: var(--bg-color);\n",
              "    border: none;\n",
              "    border-radius: 50%;\n",
              "    cursor: pointer;\n",
              "    display: none;\n",
              "    fill: var(--fill-color);\n",
              "    height: 32px;\n",
              "    padding: 0;\n",
              "    width: 32px;\n",
              "  }\n",
              "\n",
              "  .colab-df-quickchart:hover {\n",
              "    background-color: var(--hover-bg-color);\n",
              "    box-shadow: 0 1px 2px rgba(60, 64, 67, 0.3), 0 1px 3px 1px rgba(60, 64, 67, 0.15);\n",
              "    fill: var(--button-hover-fill-color);\n",
              "  }\n",
              "\n",
              "  .colab-df-quickchart-complete:disabled,\n",
              "  .colab-df-quickchart-complete:disabled:hover {\n",
              "    background-color: var(--disabled-bg-color);\n",
              "    fill: var(--disabled-fill-color);\n",
              "    box-shadow: none;\n",
              "  }\n",
              "\n",
              "  .colab-df-spinner {\n",
              "    border: 2px solid var(--fill-color);\n",
              "    border-color: transparent;\n",
              "    border-bottom-color: var(--fill-color);\n",
              "    animation:\n",
              "      spin 1s steps(1) infinite;\n",
              "  }\n",
              "\n",
              "  @keyframes spin {\n",
              "    0% {\n",
              "      border-color: transparent;\n",
              "      border-bottom-color: var(--fill-color);\n",
              "      border-left-color: var(--fill-color);\n",
              "    }\n",
              "    20% {\n",
              "      border-color: transparent;\n",
              "      border-left-color: var(--fill-color);\n",
              "      border-top-color: var(--fill-color);\n",
              "    }\n",
              "    30% {\n",
              "      border-color: transparent;\n",
              "      border-left-color: var(--fill-color);\n",
              "      border-top-color: var(--fill-color);\n",
              "      border-right-color: var(--fill-color);\n",
              "    }\n",
              "    40% {\n",
              "      border-color: transparent;\n",
              "      border-right-color: var(--fill-color);\n",
              "      border-top-color: var(--fill-color);\n",
              "    }\n",
              "    60% {\n",
              "      border-color: transparent;\n",
              "      border-right-color: var(--fill-color);\n",
              "    }\n",
              "    80% {\n",
              "      border-color: transparent;\n",
              "      border-right-color: var(--fill-color);\n",
              "      border-bottom-color: var(--fill-color);\n",
              "    }\n",
              "    90% {\n",
              "      border-color: transparent;\n",
              "      border-bottom-color: var(--fill-color);\n",
              "    }\n",
              "  }\n",
              "</style>\n",
              "\n",
              "  <script>\n",
              "    async function quickchart(key) {\n",
              "      const quickchartButtonEl =\n",
              "        document.querySelector('#' + key + ' button');\n",
              "      quickchartButtonEl.disabled = true;  // To prevent multiple clicks.\n",
              "      quickchartButtonEl.classList.add('colab-df-spinner');\n",
              "      try {\n",
              "        const charts = await google.colab.kernel.invokeFunction(\n",
              "            'suggestCharts', [key], {});\n",
              "      } catch (error) {\n",
              "        console.error('Error during call to suggestCharts:', error);\n",
              "      }\n",
              "      quickchartButtonEl.classList.remove('colab-df-spinner');\n",
              "      quickchartButtonEl.classList.add('colab-df-quickchart-complete');\n",
              "    }\n",
              "    (() => {\n",
              "      let quickchartButtonEl =\n",
              "        document.querySelector('#df-d272fc44-7837-49d8-ab2f-4d8e80504da6 button');\n",
              "      quickchartButtonEl.style.display =\n",
              "        google.colab.kernel.accessAllowed ? 'block' : 'none';\n",
              "    })();\n",
              "  </script>\n",
              "</div>\n",
              "    </div>\n",
              "  </div>\n"
            ]
          },
          "metadata": {},
          "execution_count": 3
        }
      ]
    },
    {
      "cell_type": "markdown",
      "metadata": {
        "id": "mAofYTnmvnAB"
      },
      "source": [
        "### 2- Show the mean of tenure and mean of monthly charges of the people who churn. Do they have higher mean values in comparison to the people who stayed with the company? Show the distribution of tenure and monthly charges using histograms."
      ]
    },
    {
      "cell_type": "code",
      "source": [
        "train_data.describe()"
      ],
      "metadata": {
        "colab": {
          "base_uri": "https://localhost:8080/",
          "height": 300
        },
        "id": "Bq9eG5rK2-9H",
        "outputId": "3f18e2ee-8524-43aa-9f15-9afda0e8a137"
      },
      "execution_count": 13,
      "outputs": [
        {
          "output_type": "execute_result",
          "data": {
            "text/plain": [
              "       Senior Citizen      Partner       Tenure  Phone Service  \\\n",
              "count     5600.000000  5600.000000  5600.000000    5600.000000   \n",
              "mean         0.160357     0.482679    32.340714       0.907500   \n",
              "std          0.366970     0.499745    24.593752       0.289756   \n",
              "min          0.000000     0.000000     0.000000       0.000000   \n",
              "25%          0.000000     0.000000     9.000000       1.000000   \n",
              "50%          0.000000     0.000000    29.000000       1.000000   \n",
              "75%          0.000000     1.000000    55.000000       1.000000   \n",
              "max          1.000000     1.000000    72.000000       1.000000   \n",
              "\n",
              "       Multiple Lines  Online Backup  Streaming TV  Streaming Movies  \\\n",
              "count     5600.000000    5600.000000   5600.000000       5600.000000   \n",
              "mean         0.425000       0.344464      0.385714          0.388214   \n",
              "std          0.494387       0.475236      0.486807          0.487387   \n",
              "min          0.000000       0.000000      0.000000          0.000000   \n",
              "25%          0.000000       0.000000      0.000000          0.000000   \n",
              "50%          0.000000       0.000000      0.000000          0.000000   \n",
              "75%          1.000000       1.000000      1.000000          1.000000   \n",
              "max          1.000000       1.000000      1.000000          1.000000   \n",
              "\n",
              "       Monthly Charges        Churn  \n",
              "count      5600.000000  5600.000000  \n",
              "mean         64.887580     0.263750  \n",
              "std          30.114127     0.440705  \n",
              "min          18.250000     0.000000  \n",
              "25%          35.587500     0.000000  \n",
              "50%          70.450000     0.000000  \n",
              "75%          89.950000     1.000000  \n",
              "max         118.750000     1.000000  "
            ],
            "text/html": [
              "\n",
              "  <div id=\"df-081a38ce-c6a1-4947-a244-ef1d2b9d6748\" class=\"colab-df-container\">\n",
              "    <div>\n",
              "<style scoped>\n",
              "    .dataframe tbody tr th:only-of-type {\n",
              "        vertical-align: middle;\n",
              "    }\n",
              "\n",
              "    .dataframe tbody tr th {\n",
              "        vertical-align: top;\n",
              "    }\n",
              "\n",
              "    .dataframe thead th {\n",
              "        text-align: right;\n",
              "    }\n",
              "</style>\n",
              "<table border=\"1\" class=\"dataframe\">\n",
              "  <thead>\n",
              "    <tr style=\"text-align: right;\">\n",
              "      <th></th>\n",
              "      <th>Senior Citizen</th>\n",
              "      <th>Partner</th>\n",
              "      <th>Tenure</th>\n",
              "      <th>Phone Service</th>\n",
              "      <th>Multiple Lines</th>\n",
              "      <th>Online Backup</th>\n",
              "      <th>Streaming TV</th>\n",
              "      <th>Streaming Movies</th>\n",
              "      <th>Monthly Charges</th>\n",
              "      <th>Churn</th>\n",
              "    </tr>\n",
              "  </thead>\n",
              "  <tbody>\n",
              "    <tr>\n",
              "      <th>count</th>\n",
              "      <td>5600.000000</td>\n",
              "      <td>5600.000000</td>\n",
              "      <td>5600.000000</td>\n",
              "      <td>5600.000000</td>\n",
              "      <td>5600.000000</td>\n",
              "      <td>5600.000000</td>\n",
              "      <td>5600.000000</td>\n",
              "      <td>5600.000000</td>\n",
              "      <td>5600.000000</td>\n",
              "      <td>5600.000000</td>\n",
              "    </tr>\n",
              "    <tr>\n",
              "      <th>mean</th>\n",
              "      <td>0.160357</td>\n",
              "      <td>0.482679</td>\n",
              "      <td>32.340714</td>\n",
              "      <td>0.907500</td>\n",
              "      <td>0.425000</td>\n",
              "      <td>0.344464</td>\n",
              "      <td>0.385714</td>\n",
              "      <td>0.388214</td>\n",
              "      <td>64.887580</td>\n",
              "      <td>0.263750</td>\n",
              "    </tr>\n",
              "    <tr>\n",
              "      <th>std</th>\n",
              "      <td>0.366970</td>\n",
              "      <td>0.499745</td>\n",
              "      <td>24.593752</td>\n",
              "      <td>0.289756</td>\n",
              "      <td>0.494387</td>\n",
              "      <td>0.475236</td>\n",
              "      <td>0.486807</td>\n",
              "      <td>0.487387</td>\n",
              "      <td>30.114127</td>\n",
              "      <td>0.440705</td>\n",
              "    </tr>\n",
              "    <tr>\n",
              "      <th>min</th>\n",
              "      <td>0.000000</td>\n",
              "      <td>0.000000</td>\n",
              "      <td>0.000000</td>\n",
              "      <td>0.000000</td>\n",
              "      <td>0.000000</td>\n",
              "      <td>0.000000</td>\n",
              "      <td>0.000000</td>\n",
              "      <td>0.000000</td>\n",
              "      <td>18.250000</td>\n",
              "      <td>0.000000</td>\n",
              "    </tr>\n",
              "    <tr>\n",
              "      <th>25%</th>\n",
              "      <td>0.000000</td>\n",
              "      <td>0.000000</td>\n",
              "      <td>9.000000</td>\n",
              "      <td>1.000000</td>\n",
              "      <td>0.000000</td>\n",
              "      <td>0.000000</td>\n",
              "      <td>0.000000</td>\n",
              "      <td>0.000000</td>\n",
              "      <td>35.587500</td>\n",
              "      <td>0.000000</td>\n",
              "    </tr>\n",
              "    <tr>\n",
              "      <th>50%</th>\n",
              "      <td>0.000000</td>\n",
              "      <td>0.000000</td>\n",
              "      <td>29.000000</td>\n",
              "      <td>1.000000</td>\n",
              "      <td>0.000000</td>\n",
              "      <td>0.000000</td>\n",
              "      <td>0.000000</td>\n",
              "      <td>0.000000</td>\n",
              "      <td>70.450000</td>\n",
              "      <td>0.000000</td>\n",
              "    </tr>\n",
              "    <tr>\n",
              "      <th>75%</th>\n",
              "      <td>0.000000</td>\n",
              "      <td>1.000000</td>\n",
              "      <td>55.000000</td>\n",
              "      <td>1.000000</td>\n",
              "      <td>1.000000</td>\n",
              "      <td>1.000000</td>\n",
              "      <td>1.000000</td>\n",
              "      <td>1.000000</td>\n",
              "      <td>89.950000</td>\n",
              "      <td>1.000000</td>\n",
              "    </tr>\n",
              "    <tr>\n",
              "      <th>max</th>\n",
              "      <td>1.000000</td>\n",
              "      <td>1.000000</td>\n",
              "      <td>72.000000</td>\n",
              "      <td>1.000000</td>\n",
              "      <td>1.000000</td>\n",
              "      <td>1.000000</td>\n",
              "      <td>1.000000</td>\n",
              "      <td>1.000000</td>\n",
              "      <td>118.750000</td>\n",
              "      <td>1.000000</td>\n",
              "    </tr>\n",
              "  </tbody>\n",
              "</table>\n",
              "</div>\n",
              "    <div class=\"colab-df-buttons\">\n",
              "\n",
              "  <div class=\"colab-df-container\">\n",
              "    <button class=\"colab-df-convert\" onclick=\"convertToInteractive('df-081a38ce-c6a1-4947-a244-ef1d2b9d6748')\"\n",
              "            title=\"Convert this dataframe to an interactive table.\"\n",
              "            style=\"display:none;\">\n",
              "\n",
              "  <svg xmlns=\"http://www.w3.org/2000/svg\" height=\"24px\" viewBox=\"0 -960 960 960\">\n",
              "    <path d=\"M120-120v-720h720v720H120Zm60-500h600v-160H180v160Zm220 220h160v-160H400v160Zm0 220h160v-160H400v160ZM180-400h160v-160H180v160Zm440 0h160v-160H620v160ZM180-180h160v-160H180v160Zm440 0h160v-160H620v160Z\"/>\n",
              "  </svg>\n",
              "    </button>\n",
              "\n",
              "  <style>\n",
              "    .colab-df-container {\n",
              "      display:flex;\n",
              "      gap: 12px;\n",
              "    }\n",
              "\n",
              "    .colab-df-convert {\n",
              "      background-color: #E8F0FE;\n",
              "      border: none;\n",
              "      border-radius: 50%;\n",
              "      cursor: pointer;\n",
              "      display: none;\n",
              "      fill: #1967D2;\n",
              "      height: 32px;\n",
              "      padding: 0 0 0 0;\n",
              "      width: 32px;\n",
              "    }\n",
              "\n",
              "    .colab-df-convert:hover {\n",
              "      background-color: #E2EBFA;\n",
              "      box-shadow: 0px 1px 2px rgba(60, 64, 67, 0.3), 0px 1px 3px 1px rgba(60, 64, 67, 0.15);\n",
              "      fill: #174EA6;\n",
              "    }\n",
              "\n",
              "    .colab-df-buttons div {\n",
              "      margin-bottom: 4px;\n",
              "    }\n",
              "\n",
              "    [theme=dark] .colab-df-convert {\n",
              "      background-color: #3B4455;\n",
              "      fill: #D2E3FC;\n",
              "    }\n",
              "\n",
              "    [theme=dark] .colab-df-convert:hover {\n",
              "      background-color: #434B5C;\n",
              "      box-shadow: 0px 1px 3px 1px rgba(0, 0, 0, 0.15);\n",
              "      filter: drop-shadow(0px 1px 2px rgba(0, 0, 0, 0.3));\n",
              "      fill: #FFFFFF;\n",
              "    }\n",
              "  </style>\n",
              "\n",
              "    <script>\n",
              "      const buttonEl =\n",
              "        document.querySelector('#df-081a38ce-c6a1-4947-a244-ef1d2b9d6748 button.colab-df-convert');\n",
              "      buttonEl.style.display =\n",
              "        google.colab.kernel.accessAllowed ? 'block' : 'none';\n",
              "\n",
              "      async function convertToInteractive(key) {\n",
              "        const element = document.querySelector('#df-081a38ce-c6a1-4947-a244-ef1d2b9d6748');\n",
              "        const dataTable =\n",
              "          await google.colab.kernel.invokeFunction('convertToInteractive',\n",
              "                                                    [key], {});\n",
              "        if (!dataTable) return;\n",
              "\n",
              "        const docLinkHtml = 'Like what you see? Visit the ' +\n",
              "          '<a target=\"_blank\" href=https://colab.research.google.com/notebooks/data_table.ipynb>data table notebook</a>'\n",
              "          + ' to learn more about interactive tables.';\n",
              "        element.innerHTML = '';\n",
              "        dataTable['output_type'] = 'display_data';\n",
              "        await google.colab.output.renderOutput(dataTable, element);\n",
              "        const docLink = document.createElement('div');\n",
              "        docLink.innerHTML = docLinkHtml;\n",
              "        element.appendChild(docLink);\n",
              "      }\n",
              "    </script>\n",
              "  </div>\n",
              "\n",
              "\n",
              "<div id=\"df-8156fd00-c7bb-4670-8397-19986ea2097a\">\n",
              "  <button class=\"colab-df-quickchart\" onclick=\"quickchart('df-8156fd00-c7bb-4670-8397-19986ea2097a')\"\n",
              "            title=\"Suggest charts.\"\n",
              "            style=\"display:none;\">\n",
              "\n",
              "<svg xmlns=\"http://www.w3.org/2000/svg\" height=\"24px\"viewBox=\"0 0 24 24\"\n",
              "     width=\"24px\">\n",
              "    <g>\n",
              "        <path d=\"M19 3H5c-1.1 0-2 .9-2 2v14c0 1.1.9 2 2 2h14c1.1 0 2-.9 2-2V5c0-1.1-.9-2-2-2zM9 17H7v-7h2v7zm4 0h-2V7h2v10zm4 0h-2v-4h2v4z\"/>\n",
              "    </g>\n",
              "</svg>\n",
              "  </button>\n",
              "\n",
              "<style>\n",
              "  .colab-df-quickchart {\n",
              "      --bg-color: #E8F0FE;\n",
              "      --fill-color: #1967D2;\n",
              "      --hover-bg-color: #E2EBFA;\n",
              "      --hover-fill-color: #174EA6;\n",
              "      --disabled-fill-color: #AAA;\n",
              "      --disabled-bg-color: #DDD;\n",
              "  }\n",
              "\n",
              "  [theme=dark] .colab-df-quickchart {\n",
              "      --bg-color: #3B4455;\n",
              "      --fill-color: #D2E3FC;\n",
              "      --hover-bg-color: #434B5C;\n",
              "      --hover-fill-color: #FFFFFF;\n",
              "      --disabled-bg-color: #3B4455;\n",
              "      --disabled-fill-color: #666;\n",
              "  }\n",
              "\n",
              "  .colab-df-quickchart {\n",
              "    background-color: var(--bg-color);\n",
              "    border: none;\n",
              "    border-radius: 50%;\n",
              "    cursor: pointer;\n",
              "    display: none;\n",
              "    fill: var(--fill-color);\n",
              "    height: 32px;\n",
              "    padding: 0;\n",
              "    width: 32px;\n",
              "  }\n",
              "\n",
              "  .colab-df-quickchart:hover {\n",
              "    background-color: var(--hover-bg-color);\n",
              "    box-shadow: 0 1px 2px rgba(60, 64, 67, 0.3), 0 1px 3px 1px rgba(60, 64, 67, 0.15);\n",
              "    fill: var(--button-hover-fill-color);\n",
              "  }\n",
              "\n",
              "  .colab-df-quickchart-complete:disabled,\n",
              "  .colab-df-quickchart-complete:disabled:hover {\n",
              "    background-color: var(--disabled-bg-color);\n",
              "    fill: var(--disabled-fill-color);\n",
              "    box-shadow: none;\n",
              "  }\n",
              "\n",
              "  .colab-df-spinner {\n",
              "    border: 2px solid var(--fill-color);\n",
              "    border-color: transparent;\n",
              "    border-bottom-color: var(--fill-color);\n",
              "    animation:\n",
              "      spin 1s steps(1) infinite;\n",
              "  }\n",
              "\n",
              "  @keyframes spin {\n",
              "    0% {\n",
              "      border-color: transparent;\n",
              "      border-bottom-color: var(--fill-color);\n",
              "      border-left-color: var(--fill-color);\n",
              "    }\n",
              "    20% {\n",
              "      border-color: transparent;\n",
              "      border-left-color: var(--fill-color);\n",
              "      border-top-color: var(--fill-color);\n",
              "    }\n",
              "    30% {\n",
              "      border-color: transparent;\n",
              "      border-left-color: var(--fill-color);\n",
              "      border-top-color: var(--fill-color);\n",
              "      border-right-color: var(--fill-color);\n",
              "    }\n",
              "    40% {\n",
              "      border-color: transparent;\n",
              "      border-right-color: var(--fill-color);\n",
              "      border-top-color: var(--fill-color);\n",
              "    }\n",
              "    60% {\n",
              "      border-color: transparent;\n",
              "      border-right-color: var(--fill-color);\n",
              "    }\n",
              "    80% {\n",
              "      border-color: transparent;\n",
              "      border-right-color: var(--fill-color);\n",
              "      border-bottom-color: var(--fill-color);\n",
              "    }\n",
              "    90% {\n",
              "      border-color: transparent;\n",
              "      border-bottom-color: var(--fill-color);\n",
              "    }\n",
              "  }\n",
              "</style>\n",
              "\n",
              "  <script>\n",
              "    async function quickchart(key) {\n",
              "      const quickchartButtonEl =\n",
              "        document.querySelector('#' + key + ' button');\n",
              "      quickchartButtonEl.disabled = true;  // To prevent multiple clicks.\n",
              "      quickchartButtonEl.classList.add('colab-df-spinner');\n",
              "      try {\n",
              "        const charts = await google.colab.kernel.invokeFunction(\n",
              "            'suggestCharts', [key], {});\n",
              "      } catch (error) {\n",
              "        console.error('Error during call to suggestCharts:', error);\n",
              "      }\n",
              "      quickchartButtonEl.classList.remove('colab-df-spinner');\n",
              "      quickchartButtonEl.classList.add('colab-df-quickchart-complete');\n",
              "    }\n",
              "    (() => {\n",
              "      let quickchartButtonEl =\n",
              "        document.querySelector('#df-8156fd00-c7bb-4670-8397-19986ea2097a button');\n",
              "      quickchartButtonEl.style.display =\n",
              "        google.colab.kernel.accessAllowed ? 'block' : 'none';\n",
              "    })();\n",
              "  </script>\n",
              "</div>\n",
              "    </div>\n",
              "  </div>\n"
            ]
          },
          "metadata": {},
          "execution_count": 13
        }
      ]
    },
    {
      "cell_type": "code",
      "source": [
        "train_data.isnull().sum()"
      ],
      "metadata": {
        "colab": {
          "base_uri": "https://localhost:8080/"
        },
        "id": "SUeyBbzg254c",
        "outputId": "80701331-ef4d-417f-cabd-e7b5f2e18054"
      },
      "execution_count": 4,
      "outputs": [
        {
          "output_type": "execute_result",
          "data": {
            "text/plain": [
              "CustomerID          0\n",
              "Gender              0\n",
              "Senior Citizen      0\n",
              "Partner             0\n",
              "Tenure              0\n",
              "Phone Service       0\n",
              "Multiple Lines      0\n",
              "Online Backup       0\n",
              "Streaming TV        0\n",
              "Streaming Movies    0\n",
              "Contract            0\n",
              "Payment Method      0\n",
              "Monthly Charges     0\n",
              "Churn               0\n",
              "dtype: int64"
            ]
          },
          "metadata": {},
          "execution_count": 4
        }
      ]
    },
    {
      "cell_type": "code",
      "source": [
        "unique_values = train_data.nunique()\n",
        "print(unique_values)"
      ],
      "metadata": {
        "colab": {
          "base_uri": "https://localhost:8080/"
        },
        "id": "ofzMEb5FDLDT",
        "outputId": "2e083e0b-4399-4f77-83d8-8b17c103156d"
      },
      "execution_count": 5,
      "outputs": [
        {
          "output_type": "stream",
          "name": "stdout",
          "text": [
            "CustomerID          5600\n",
            "Gender                 2\n",
            "Senior Citizen         2\n",
            "Partner                2\n",
            "Tenure                73\n",
            "Phone Service          2\n",
            "Multiple Lines         2\n",
            "Online Backup          2\n",
            "Streaming TV           2\n",
            "Streaming Movies       2\n",
            "Contract               3\n",
            "Payment Method         4\n",
            "Monthly Charges     1481\n",
            "Churn                  2\n",
            "dtype: int64\n"
          ]
        }
      ]
    },
    {
      "cell_type": "code",
      "source": [
        "train_data.loc[train_data ['Churn']==1]. Tenure.mean()"
      ],
      "metadata": {
        "colab": {
          "base_uri": "https://localhost:8080/"
        },
        "id": "l-Q9YfAu3gHh",
        "outputId": "705e3e96-01a8-4c93-ec3b-f45243584c86"
      },
      "execution_count": 15,
      "outputs": [
        {
          "output_type": "execute_result",
          "data": {
            "text/plain": [
              "17.79756262694651"
            ]
          },
          "metadata": {},
          "execution_count": 15
        }
      ]
    },
    {
      "cell_type": "code",
      "source": [
        "train_data.loc[train_data ['Churn']==1][['Monthly Charges']].mean()"
      ],
      "metadata": {
        "colab": {
          "base_uri": "https://localhost:8080/"
        },
        "id": "Y4XaOXLx3mQF",
        "outputId": "33aac1eb-01d2-401a-f987-db5240202d82"
      },
      "execution_count": 14,
      "outputs": [
        {
          "output_type": "execute_result",
          "data": {
            "text/plain": [
              "Monthly Charges    74.424712\n",
              "dtype: float64"
            ]
          },
          "metadata": {},
          "execution_count": 14
        }
      ]
    },
    {
      "cell_type": "code",
      "source": [
        "train_data.loc[train_data ['Churn']==0][['Monthly Charges']].mean()"
      ],
      "metadata": {
        "colab": {
          "base_uri": "https://localhost:8080/"
        },
        "id": "a1af_3qK6n2a",
        "outputId": "35eaf95c-cb97-4393-81fe-1b7959bcab3c"
      },
      "execution_count": 7,
      "outputs": [
        {
          "output_type": "execute_result",
          "data": {
            "text/plain": [
              "Monthly Charges    61.471053\n",
              "dtype: float64"
            ]
          },
          "metadata": {},
          "execution_count": 7
        }
      ]
    },
    {
      "cell_type": "code",
      "source": [
        "train_data.loc[train_data ['Churn']==0]. Tenure.mean()"
      ],
      "metadata": {
        "colab": {
          "base_uri": "https://localhost:8080/"
        },
        "id": "zvtJQwW46Ygx",
        "outputId": "b894dcdb-ee6f-47ee-f495-777aaa51f517"
      },
      "execution_count": 8,
      "outputs": [
        {
          "output_type": "execute_result",
          "data": {
            "text/plain": [
              "37.5505699733204"
            ]
          },
          "metadata": {},
          "execution_count": 8
        }
      ]
    },
    {
      "cell_type": "code",
      "source": [
        "selected_columns=train_data[['Tenure','Monthly Charges']]"
      ],
      "metadata": {
        "id": "t-GO8Et08O5H"
      },
      "execution_count": 12,
      "outputs": []
    },
    {
      "cell_type": "markdown",
      "source": [
        "people who churn have lower Tenure and higher Monthly Charges than who do not churn."
      ],
      "metadata": {
        "id": "FRm0l4Gsy87k"
      }
    },
    {
      "cell_type": "code",
      "source": [
        "selected_columns.hist(bins=30,figsize=[10,12],xlabelsize=7)"
      ],
      "metadata": {
        "colab": {
          "base_uri": "https://localhost:8080/",
          "height": 1000
        },
        "id": "uo7F5Opn6wrQ",
        "outputId": "4e4c3434-71a8-42cd-d3db-6df84924714e"
      },
      "execution_count": 11,
      "outputs": [
        {
          "output_type": "execute_result",
          "data": {
            "text/plain": [
              "array([[<Axes: title={'center': 'Tenure'}>,\n",
              "        <Axes: title={'center': 'Monthly Charges'}>]], dtype=object)"
            ]
          },
          "metadata": {},
          "execution_count": 11
        },
        {
          "output_type": "display_data",
          "data": {
            "text/plain": [
              "<Figure size 1000x1200 with 2 Axes>"
            ],
            "image/png": "[encoded data removed]"
          },
          "metadata": {}
        }
      ]
    },
    {
      "cell_type": "markdown",
      "metadata": {
        "id": "-sX8osxpRPgx"
      },
      "source": [
        "### 3- Show the sum of the people who churned or not with respect to their Gender and marital status. Considering this data, what do you recommend to this telecommunication company as a data science consultant?"
      ]
    },
    {
      "cell_type": "code",
      "source": [
        "train_data.Churn.value_counts()"
      ],
      "metadata": {
        "colab": {
          "base_uri": "https://localhost:8080/"
        },
        "id": "TzlMvS_l9qbk",
        "outputId": "c81b0211-adbf-423b-8e47-21bd41a5cd1b"
      },
      "execution_count": 16,
      "outputs": [
        {
          "output_type": "execute_result",
          "data": {
            "text/plain": [
              "0    4123\n",
              "1    1477\n",
              "Name: Churn, dtype: int64"
            ]
          },
          "metadata": {},
          "execution_count": 16
        }
      ]
    },
    {
      "cell_type": "code",
      "source": [
        "train_data.Churn.value_counts().plot(kind='bar')"
      ],
      "metadata": {
        "colab": {
          "base_uri": "https://localhost:8080/",
          "height": 443
        },
        "id": "hdwoXKxe9KTb",
        "outputId": "6e8244e4-9325-4bfe-83b2-492882e02fc7"
      },
      "execution_count": 17,
      "outputs": [
        {
          "output_type": "execute_result",
          "data": {
            "text/plain": [
              "<Axes: >"
            ]
          },
          "metadata": {},
          "execution_count": 17
        },
        {
          "output_type": "display_data",
          "data": {
            "text/plain": [
              "<Figure size 640x480 with 1 Axes>"
            ],
            "image/png": "[encoded data removed]"
          },
          "metadata": {}
        }
      ]
    },
    {
      "cell_type": "code",
      "source": [
        "train_data.Gender.value_counts().plot(kind='pie')"
      ],
      "metadata": {
        "colab": {
          "base_uri": "https://localhost:8080/",
          "height": 424
        },
        "id": "j2in38If9wpw",
        "outputId": "790e5f9f-4134-4f41-8e14-3a0ae61138ff"
      },
      "execution_count": 18,
      "outputs": [
        {
          "output_type": "execute_result",
          "data": {
            "text/plain": [
              "<Axes: ylabel='Gender'>"
            ]
          },
          "metadata": {},
          "execution_count": 18
        },
        {
          "output_type": "display_data",
          "data": {
            "text/plain": [
              "<Figure size 640x480 with 1 Axes>"
            ],
            "image/png": "[encoded data removed]"
          },
          "metadata": {}
        }
      ]
    },
    {
      "cell_type": "code",
      "source": [
        "Churn_data = train_data.groupby('Churn')\n",
        "Churn_data[['Gender','Partner']].value_counts().plot(kind='bar')"
      ],
      "metadata": {
        "colab": {
          "base_uri": "https://localhost:8080/",
          "height": 550
        },
        "id": "K6yMYdvQ--7t",
        "outputId": "81557a64-19c6-4d5c-f8e0-521c99d9df65"
      },
      "execution_count": 21,
      "outputs": [
        {
          "output_type": "execute_result",
          "data": {
            "text/plain": [
              "<Axes: xlabel='Churn,Gender,Partner'>"
            ]
          },
          "metadata": {},
          "execution_count": 21
        },
        {
          "output_type": "display_data",
          "data": {
            "text/plain": [
              "<Figure size 640x480 with 1 Axes>"
            ],
            "image/png": "[encoded data removed]"
          },
          "metadata": {}
        }
      ]
    },
    {
      "cell_type": "markdown",
      "source": [
        "People whose signal status is easy to churn, which means it has a vast potential market for this signal status group. We can discover more suitable products for them."
      ],
      "metadata": {
        "id": "ShXwaUjE0_xh"
      }
    },
    {
      "cell_type": "markdown",
      "metadata": {
        "id": "AjfLGd2SJ-IV"
      },
      "source": [
        "### 4- By using tenure data (that is shown in months) and appropriate visualisation, show when people finish their contracts the most? What do you think is the reason? What is your suggestion to the company as a data science consultant?"
      ]
    },
    {
      "cell_type": "code",
      "source": [
        "train_data.loc[train_data['Churn']==1].Tenure.plot(kind='hist', bins=range(0, max(train_data['Tenure']) + 1), edgecolor='k', figsize=(10,5)).set(xlabel='Tenure (months)', ylabel='Frequency', title='Distribution of Tenure')\n"
      ],
      "metadata": {
        "colab": {
          "base_uri": "https://localhost:8080/",
          "height": 541
        },
        "id": "-f6KbTiNBdOC",
        "outputId": "da0a1bb0-3aec-4ecc-ce04-ba30f27a680c"
      },
      "execution_count": null,
      "outputs": [
        {
          "output_type": "execute_result",
          "data": {
            "text/plain": [
              "[Text(0.5, 0, 'Tenure (months)'),\n",
              " Text(0, 0.5, 'Frequency'),\n",
              " Text(0.5, 1.0, 'Distribution of Tenure')]"
            ]
          },
          "metadata": {},
          "execution_count": 28
        },
        {
          "output_type": "display_data",
          "data": {
            "text/plain": [
              "<Figure size 1000x500 with 1 Axes>"
            ],
            "image/png": "[encoded data removed]"
          },
          "metadata": {}
        }
      ]
    },
    {
      "cell_type": "markdown",
      "source": [
        "They finish more often at the beginning of the contract and the first year. The reason is that the product does not match their needs at the beginning, so they will change to another company product immediately, another reason is that they may find a competitive advantage product. I suggest that data scientists do the questionnaire, survey, or discussion with marking and sales products to dig for the root reason and then take the proper action."
      ],
      "metadata": {
        "id": "W5DweRux2HeU"
      }
    },
    {
      "cell_type": "markdown",
      "metadata": {
        "id": "nrDyvyC7CdSA"
      },
      "source": [
        "### 5- Considering the monthly charges of the users who churn, what do you recommend to this telecommunication company as a data science consultant? You can use relevant plots for it."
      ]
    },
    {
      "cell_type": "code",
      "source": [
        "train_data.loc[train_data ['Churn']==1][['Monthly Charges']].mean()"
      ],
      "metadata": {
        "colab": {
          "base_uri": "https://localhost:8080/"
        },
        "id": "6acOWEOy6PxZ",
        "outputId": "c76ccab1-91c3-4ad6-b139-0a474dabcc3a"
      },
      "execution_count": 24,
      "outputs": [
        {
          "output_type": "execute_result",
          "data": {
            "text/plain": [
              "Monthly Charges    74.424712\n",
              "dtype: float64"
            ]
          },
          "metadata": {},
          "execution_count": 24
        }
      ]
    },
    {
      "cell_type": "code",
      "source": [
        "train_data.loc[train_data ['Churn']==0][['Monthly Charges']].mean()"
      ],
      "metadata": {
        "colab": {
          "base_uri": "https://localhost:8080/"
        },
        "id": "GJKbxpoSUhfQ",
        "outputId": "b5872c88-6063-4d8d-b882-1bf721ba6654"
      },
      "execution_count": 25,
      "outputs": [
        {
          "output_type": "execute_result",
          "data": {
            "text/plain": [
              "Monthly Charges    61.471053\n",
              "dtype: float64"
            ]
          },
          "metadata": {},
          "execution_count": 25
        }
      ]
    },
    {
      "cell_type": "code",
      "source": [
        "train_data.loc[train_data ['Churn']==1][['Monthly Charges']].describe()"
      ],
      "metadata": {
        "colab": {
          "base_uri": "https://localhost:8080/",
          "height": 762
        },
        "id": "epr0-Jbj50rX",
        "outputId": "6917c2b9-839b-4f89-99fb-2f678e154e9e"
      },
      "execution_count": 31,
      "outputs": [
        {
          "output_type": "execute_result",
          "data": {
            "text/plain": [
              "       Monthly Charges\n",
              "count      1477.000000\n",
              "mean         74.424712\n",
              "std          24.576194\n",
              "min          18.950000\n",
              "25%          56.250000\n",
              "50%          79.800000\n",
              "75%          94.000000\n",
              "max         118.350000"
            ],
            "text/html": [
              "\n",
              "  <div id=\"df-45d8df0e-ce6b-4d6b-b598-5f2d3bc632ea\" class=\"colab-df-container\">\n",
              "    <div>\n",
              "<style scoped>\n",
              "    .dataframe tbody tr th:only-of-type {\n",
              "        vertical-align: middle;\n",
              "    }\n",
              "\n",
              "    .dataframe tbody tr th {\n",
              "        vertical-align: top;\n",
              "    }\n",
              "\n",
              "    .dataframe thead th {\n",
              "        text-align: right;\n",
              "    }\n",
              "</style>\n",
              "<table border=\"1\" class=\"dataframe\">\n",
              "  <thead>\n",
              "    <tr style=\"text-align: right;\">\n",
              "      <th></th>\n",
              "      <th>Monthly Charges</th>\n",
              "    </tr>\n",
              "  </thead>\n",
              "  <tbody>\n",
              "    <tr>\n",
              "      <th>count</th>\n",
              "      <td>1477.000000</td>\n",
              "    </tr>\n",
              "    <tr>\n",
              "      <th>mean</th>\n",
              "      <td>74.424712</td>\n",
              "    </tr>\n",
              "    <tr>\n",
              "      <th>std</th>\n",
              "      <td>24.576194</td>\n",
              "    </tr>\n",
              "    <tr>\n",
              "      <th>min</th>\n",
              "      <td>18.950000</td>\n",
              "    </tr>\n",
              "    <tr>\n",
              "      <th>25%</th>\n",
              "      <td>56.250000</td>\n",
              "    </tr>\n",
              "    <tr>\n",
              "      <th>50%</th>\n",
              "      <td>79.800000</td>\n",
              "    </tr>\n",
              "    <tr>\n",
              "      <th>75%</th>\n",
              "      <td>94.000000</td>\n",
              "    </tr>\n",
              "    <tr>\n",
              "      <th>max</th>\n",
              "      <td>118.350000</td>\n",
              "    </tr>\n",
              "  </tbody>\n",
              "</table>\n",
              "</div>\n",
              "    <div class=\"colab-df-buttons\">\n",
              "\n",
              "  <div class=\"colab-df-container\">\n",
              "    <button class=\"colab-df-convert\" onclick=\"convertToInteractive('df-45d8df0e-ce6b-4d6b-b598-5f2d3bc632ea')\"\n",
              "            title=\"Convert this dataframe to an interactive table.\"\n",
              "            style=\"display:none;\">\n",
              "\n",
              "  <svg xmlns=\"http://www.w3.org/2000/svg\" height=\"24px\" viewBox=\"0 -960 960 960\">\n",
              "    <path d=\"M120-120v-720h720v720H120Zm60-500h600v-160H180v160Zm220 220h160v-160H400v160Zm0 220h160v-160H400v160ZM180-400h160v-160H180v160Zm440 0h160v-160H620v160ZM180-180h160v-160H180v160Zm440 0h160v-160H620v160Z\"/>\n",
              "  </svg>\n",
              "    </button>\n",
              "\n",
              "  <style>\n",
              "    .colab-df-container {\n",
              "      display:flex;\n",
              "      gap: 12px;\n",
              "    }\n",
              "\n",
              "    .colab-df-convert {\n",
              "      background-color: #E8F0FE;\n",
              "      border: none;\n",
              "      border-radius: 50%;\n",
              "      cursor: pointer;\n",
              "      display: none;\n",
              "      fill: #1967D2;\n",
              "      height: 32px;\n",
              "      padding: 0 0 0 0;\n",
              "      width: 32px;\n",
              "    }\n",
              "\n",
              "    .colab-df-convert:hover {\n",
              "      background-color: #E2EBFA;\n",
              "      box-shadow: 0px 1px 2px rgba(60, 64, 67, 0.3), 0px 1px 3px 1px rgba(60, 64, 67, 0.15);\n",
              "      fill: #174EA6;\n",
              "    }\n",
              "\n",
              "    .colab-df-buttons div {\n",
              "      margin-bottom: 4px;\n",
              "    }\n",
              "\n",
              "    [theme=dark] .colab-df-convert {\n",
              "      background-color: #3B4455;\n",
              "      fill: #D2E3FC;\n",
              "    }\n",
              "\n",
              "    [theme=dark] .colab-df-convert:hover {\n",
              "      background-color: #434B5C;\n",
              "      box-shadow: 0px 1px 3px 1px rgba(0, 0, 0, 0.15);\n",
              "      filter: drop-shadow(0px 1px 2px rgba(0, 0, 0, 0.3));\n",
              "      fill: #FFFFFF;\n",
              "    }\n",
              "  </style>\n",
              "\n",
              "    <script>\n",
              "      const buttonEl =\n",
              "        document.querySelector('#df-45d8df0e-ce6b-4d6b-b598-5f2d3bc632ea button.colab-df-convert');\n",
              "      buttonEl.style.display =\n",
              "        google.colab.kernel.accessAllowed ? 'block' : 'none';\n",
              "\n",
              "      async function convertToInteractive(key) {\n",
              "        const element = document.querySelector('#df-45d8df0e-ce6b-4d6b-b598-5f2d3bc632ea');\n",
              "        const dataTable =\n",
              "          await google.colab.kernel.invokeFunction('convertToInteractive',\n",
              "                                                    [key], {});\n",
              "        if (!dataTable) return;\n",
              "\n",
              "        const docLinkHtml = 'Like what you see? Visit the ' +\n",
              "          '<a target=\"_blank\" href=https://colab.research.google.com/notebooks/data_table.ipynb>data table notebook</a>'\n",
              "          + ' to learn more about interactive tables.';\n",
              "        element.innerHTML = '';\n",
              "        dataTable['output_type'] = 'display_data';\n",
              "        await google.colab.output.renderOutput(dataTable, element);\n",
              "        const docLink = document.createElement('div');\n",
              "        docLink.innerHTML = docLinkHtml;\n",
              "        element.appendChild(docLink);\n",
              "      }\n",
              "    </script>\n",
              "  </div>\n",
              "\n",
              "\n",
              "<div id=\"df-ce9b1766-8e50-4329-9946-5426a606c60d\">\n",
              "  <button class=\"colab-df-quickchart\" onclick=\"quickchart('df-ce9b1766-8e50-4329-9946-5426a606c60d')\"\n",
              "            title=\"Suggest charts.\"\n",
              "            style=\"display:none;\">\n",
              "\n",
              "<svg xmlns=\"http://www.w3.org/2000/svg\" height=\"24px\"viewBox=\"0 0 24 24\"\n",
              "     width=\"24px\">\n",
              "    <g>\n",
              "        <path d=\"M19 3H5c-1.1 0-2 .9-2 2v14c0 1.1.9 2 2 2h14c1.1 0 2-.9 2-2V5c0-1.1-.9-2-2-2zM9 17H7v-7h2v7zm4 0h-2V7h2v10zm4 0h-2v-4h2v4z\"/>\n",
              "    </g>\n",
              "</svg>\n",
              "  </button>\n",
              "\n",
              "<style>\n",
              "  .colab-df-quickchart {\n",
              "      --bg-color: #E8F0FE;\n",
              "      --fill-color: #1967D2;\n",
              "      --hover-bg-color: #E2EBFA;\n",
              "      --hover-fill-color: #174EA6;\n",
              "      --disabled-fill-color: #AAA;\n",
              "      --disabled-bg-color: #DDD;\n",
              "  }\n",
              "\n",
              "  [theme=dark] .colab-df-quickchart {\n",
              "      --bg-color: #3B4455;\n",
              "      --fill-color: #D2E3FC;\n",
              "      --hover-bg-color: #434B5C;\n",
              "      --hover-fill-color: #FFFFFF;\n",
              "      --disabled-bg-color: #3B4455;\n",
              "      --disabled-fill-color: #666;\n",
              "  }\n",
              "\n",
              "  .colab-df-quickchart {\n",
              "    background-color: var(--bg-color);\n",
              "    border: none;\n",
              "    border-radius: 50%;\n",
              "    cursor: pointer;\n",
              "    display: none;\n",
              "    fill: var(--fill-color);\n",
              "    height: 32px;\n",
              "    padding: 0;\n",
              "    width: 32px;\n",
              "  }\n",
              "\n",
              "  .colab-df-quickchart:hover {\n",
              "    background-color: var(--hover-bg-color);\n",
              "    box-shadow: 0 1px 2px rgba(60, 64, 67, 0.3), 0 1px 3px 1px rgba(60, 64, 67, 0.15);\n",
              "    fill: var(--button-hover-fill-color);\n",
              "  }\n",
              "\n",
              "  .colab-df-quickchart-complete:disabled,\n",
              "  .colab-df-quickchart-complete:disabled:hover {\n",
              "    background-color: var(--disabled-bg-color);\n",
              "    fill: var(--disabled-fill-color);\n",
              "    box-shadow: none;\n",
              "  }\n",
              "\n",
              "  .colab-df-spinner {\n",
              "    border: 2px solid var(--fill-color);\n",
              "    border-color: transparent;\n",
              "    border-bottom-color: var(--fill-color);\n",
              "    animation:\n",
              "      spin 1s steps(1) infinite;\n",
              "  }\n",
              "\n",
              "  @keyframes spin {\n",
              "    0% {\n",
              "      border-color: transparent;\n",
              "      border-bottom-color: var(--fill-color);\n",
              "      border-left-color: var(--fill-color);\n",
              "    }\n",
              "    20% {\n",
              "      border-color: transparent;\n",
              "      border-left-color: var(--fill-color);\n",
              "      border-top-color: var(--fill-color);\n",
              "    }\n",
              "    30% {\n",
              "      border-color: transparent;\n",
              "      border-left-color: var(--fill-color);\n",
              "      border-top-color: var(--fill-color);\n",
              "      border-right-color: var(--fill-color);\n",
              "    }\n",
              "    40% {\n",
              "      border-color: transparent;\n",
              "      border-right-color: var(--fill-color);\n",
              "      border-top-color: var(--fill-color);\n",
              "    }\n",
              "    60% {\n",
              "      border-color: transparent;\n",
              "      border-right-color: var(--fill-color);\n",
              "    }\n",
              "    80% {\n",
              "      border-color: transparent;\n",
              "      border-right-color: var(--fill-color);\n",
              "      border-bottom-color: var(--fill-color);\n",
              "    }\n",
              "    90% {\n",
              "      border-color: transparent;\n",
              "      border-bottom-color: var(--fill-color);\n",
              "    }\n",
              "  }\n",
              "</style>\n",
              "\n",
              "  <script>\n",
              "    async function quickchart(key) {\n",
              "      const quickchartButtonEl =\n",
              "        document.querySelector('#' + key + ' button');\n",
              "      quickchartButtonEl.disabled = true;  // To prevent multiple clicks.\n",
              "      quickchartButtonEl.classList.add('colab-df-spinner');\n",
              "      try {\n",
              "        const charts = await google.colab.kernel.invokeFunction(\n",
              "            'suggestCharts', [key], {});\n",
              "      } catch (error) {\n",
              "        console.error('Error during call to suggestCharts:', error);\n",
              "      }\n",
              "      quickchartButtonEl.classList.remove('colab-df-spinner');\n",
              "      quickchartButtonEl.classList.add('colab-df-quickchart-complete');\n",
              "    }\n",
              "    (() => {\n",
              "      let quickchartButtonEl =\n",
              "        document.querySelector('#df-ce9b1766-8e50-4329-9946-5426a606c60d button');\n",
              "      quickchartButtonEl.style.display =\n",
              "        google.colab.kernel.accessAllowed ? 'block' : 'none';\n",
              "    })();\n",
              "  </script>\n",
              "</div>\n",
              "    </div>\n",
              "  </div>\n"
            ]
          },
          "metadata": {},
          "execution_count": 31
        },
        {
          "output_type": "display_data",
          "data": {
            "text/plain": [
              "<google.colab._quickchart_helpers.SectionTitle at 0x7b48d4d50340>"
            ],
            "text/html": [
              "<h4 class=\"colab-quickchart-section-title\">Values</h4>\n",
              "<style>\n",
              "  .colab-quickchart-section-title {\n",
              "      clear: both;\n",
              "  }\n",
              "</style>"
            ]
          },
          "metadata": {}
        },
        {
          "output_type": "display_data",
          "data": {
            "text/plain": [
              "import numpy as np\n",
              "from google.colab import autoviz\n",
              "\n",
              "def value_plot(df, y, figscale=1):\n",
              "  from matplotlib import pyplot as plt\n",
              "  df[y].plot(kind='line', figsize=(8 * figscale, 4 * figscale), title=y)\n",
              "  plt.gca().spines[['top', 'right']].set_visible(False)\n",
              "  plt.tight_layout()\n",
              "  return autoviz.MplChart.from_current_mpl_state()\n",
              "\n",
              "chart = value_plot(_df_2, *['Monthly Charges'], **{})\n",
              "chart"
            ],
            "text/html": [
              "      <div class=\"colab-quickchart-chart-with-code\" id=\"chart-569df4a2-c66f-4159-83b9-9c7c934a1a00\">\n",
              "        <img src=\"data:image/png;base64,iVBORw0KGgoAAAANSUhEUgAAAYwAAADECAYAAACMRRb/AAAAOXRFWHRTb2Z0d2FyZQBNYXRwbG90\n",
              "bGliIHZlcnNpb24zLjcuMSwgaHR0cHM6Ly9tYXRwbG90bGliLm9yZy/bCgiHAAAACXBIWXMAAA9h\n",
              "AAAPYQGoP6dpAAAl3UlEQVR4nO3deXiTdbo38G+2pnRLsaWb3SildShdKFAYQJZBwF1sUVxQKgyt\n",
              "ogIXeg6DvOLMOMIsHHAuziydczllUMGOgqCgIh4RC/LK9C2dIgiUIrRAF5bSli5Jk9zvH2liA21J\n",
              "oWnS9vu5rlwkz5LcifH3zfNLej8KEREQERHdgNLVBRARUe/AwCAiIocwMIiIyCEMDCIicggDg4iI\n",
              "HMLAICIihzAwiIjIIQwMIiJyCAODiIgcwsAgAnD69GkoFAqcPHmyw20yMzMxZ84cp9axYcMGhIeH\n",
              "O/UxiG4WA4NcbvLkyVAoFMjJybFbXl9fD19f3xsO5F31y1/+EhMmTOi2++uKw4cP47HHHkNoaCh8\n",
              "fHwQHR2Nxx9/HIWFhS6ph6grGBjkFoYNG3ZdYLz99tuIiopyUUXd76uvvkJaWhqCg4Nx4MAB1NfX\n",
              "o6ioCNOmTcP777/vtMc1GAxOu2/qXxgY5BYeeOABVFVV4dtvv7Ut+8tf/oLs7Ozrtt25cydGjhwJ\n",
              "nU6HuLg4rFmzBmaz2bZeoVBg/fr1GD9+PHx8fJCYmIh9+/YBAN59912sWrUKBw4cgI+PD3x8fJCf\n",
              "n2/bd//+/UhOToavry/Gjh2Lo0ePtlvvq6++iilTptgtq6yshIeHB4qKitrdJzs7G7NmzcIf//hH\n",
              "REdHQ6FQwN/fH/PmzcPq1avtts3JyUF0dDR0Oh0eeeQR1NXV2datXLkScXFx8PX1RUREBF588UU0\n",
              "Njba1mdmZuLRRx/Fc889h0GDBuGhhx4CAOTm5iI2Nha+vr5IT0/HCy+8gMmTJ9v2a25uxiuvvIIh\n",
              "Q4Zg4MCBmDhxIg4dOmRbv2fPHowaNQo6nQ4BAQEYP348ampq2n2u1EcJkYtNmjRJVqxYIStXrpTM\n",
              "zEwREcnPz5fIyEgpLS0VAFJSUiIiIgcPHhSNRiN5eXnS0tIiBQUFEhoaKuvWrbPdHwBJSkqSkpIS\n",
              "aWlpkcWLF0tkZKRt/WuvvSbjx4+3q+GHH34QADJ16lQ5f/68NDU1SUZGhkycONG2zdy5c+XJJ58U\n",
              "EZGysjJRq9Vy4sQJ2/rf/OY3MmbMmHaf44kTJwSAfP75552+Frm5uaJSqWTJkiXS2Ngo58+fl9jY\n",
              "WFm5cqVtm40bN8qZM2fEbDbLd999J0OGDJFf/OIXdnWq1Wp56623xGAwSENDg+zdu1c8PDzkk08+\n",
              "EaPRKDt37pQBAwbIpEmT7PabOnWqlJeXS0tLi6xfv14GDRokNTU1IiISFhYmf//738VsNoter5dv\n",
              "vvlGrl692unzob6FgUEuZw2M8vJy8fX1lZqaGnniiSfk9ddftw3k1sDIysqSmTNn2u2/du1aiY+P\n",
              "t90GIP/4xz9st7/77jsBIJWVlSLSeWDs3bvXtmzHjh0yYMAA2+22gSEi8uCDD8rLL78sIiImk0mi\n",
              "oqIkNze33ee4b98+ASBHjx7t9LXIzc0VrVYrBoPBtuzll1+Wu+++u8N91q5dK6mpqXZ1jh071m6b\n",
              "+fPnyyOPPGK3LCMjwxYYFy9eFABy7Ngxu21iY2Pl7bffFhGR6OhoWbFihZw9e7bT50B9F6ekyG2E\n",
              "h4djypQpWLNmDbZv34758+dft015eTmGDBlityw2NhZlZWV2y8LCwmzXvb29AVi+RL+Ra/dramqC\n",
              "0Whsd9uFCxdiw4YNMBgM2LVrF2prazF79ux2tw0KCgIAnD179oY1BAYGQqPR2NXRtvacnBykpqYi\n",
              "ICAAOp0OK1asQHV1td19DB482O72uXPnrvs+KDo62nbd+qOCMWPGwN/f33Y5d+6creaPPvoIp06d\n",
              "wsiRIxEbG4vXXnutw9eG+ia1qwsgauu5557Dvffei4yMDISGhuL06dN26yMiIlBaWmq3rLS0FJGR\n",
              "kQ4/hlLZPZ+Tpk+fDp1Oh61bt+K9997D008/jQEDBrS77dChQxEXF4e3334b06ZNu+nHPHDgAF54\n",
              "4QV8/vnnmDBhAjQaDdatW4f/+q//stvu2ud4++2348yZM3bL2t4OCQkBABQXF3f4WiYmJmLTpk0A\n",
              "gKKiIsyYMQPh4eFYsGDBTT8f6l14hEFuZcaMGdi9ezfWrVvX7vp58+Zh586d2LJlC0wmEw4dOoQ/\n",
              "/OEPyMrKcvgxQkJCUFZWhubm5luqVaFQ4Nlnn8Xq1auxc+fOdr+gbysnJwfvv/8+li5dijNnzkBE\n",
              "UFdXh40bN2LFihUOPWZtbS1UKhUGDRoEjUaDwsJC/Pd///cN93vqqaewfft27Nq1CyaTCZ999hk+\n",
              "+eQT2/qoqCjMnDkTzz//vC1I6uvr8emnn6KiogIGgwG5ubm4cOECAECn00GlUkGt5mfO/oSBQW5F\n",
              "oVBg6tSpHf7x2pgxY/DBBx/gjTfewMCBA/HII49g0aJFWLx4scOPMXv2bMTHxyMsLAz+/v62X1Dd\n",
              "jGeeeQbHjx/HT3/6UwwbNqzTbSdPnoxvv/0W586dQ1paGnx9fZGUlITPPvsMs2bNcujxpk+fjmef\n",
              "fRaTJ0+GTqfDK6+8grlz595wv0mTJuHPf/4zFi5cCH9/f+Tk5ODJJ5+Ep6enbZtNmzZh5MiRmDZt\n",
              "Gnx9fREfH4//+Z//gbSexfmDDz5AQkICvL29MWnSJGRmZjr02NR3KER4Tm+im2UymRAZGYnf//73\n",
              "ePLJJ11dTpfMnDkTwcHB1/39C1FHeIRBdAv+9re/QalU4pFHHnF1KTe0ZcsW1NXVoaWlBXl5edix\n",
              "Y0evCzlyLU5AEt2E2tpahIeHQ6fTITc3Fx4eHq4u6YY+/vhjLFiwAAaDAVFRUfj73/+OiRMnuros\n",
              "6kU4JUVERA7hlBQRETmEgUFERA5hYBARkUMYGERE5JBeHxh//OMfXV0CEVG/0KXAWLRoka2Pf9ue\n",
              "/9HR0YiPj0dKSgpSUlKQl5dnW1dSUoJx48YhLi4Oo0ePxpEjRxxa56hr++MQEZFzdCkwZs2ahX37\n",
              "9rV7FrS8vDwUFRWhqKjIrmNndnY2srKycOLECSxbtgyZmZkOrSMiIvfSpcCYOHFil05QX11djYKC\n",
              "AsyZMwcAkJGRgfLycpw8ebLTdURE5H667TuMp59+GomJiZg/f76to2V5eTlCQ0NtHS0VCgUiIyNR\n",
              "VlbW6bqO6PV61NXV2V1MJlN3PQUiIupEtwTG119/jeLiYhQWFiIwMNBpHSxXr14NnU5ndzl48GCX\n",
              "78doMmPPsWr89tNjTqiSiKhv6pbAsJ5wRaPRYMmSJcjPzwdgOdlNRUWF7axcIoKysjJERkZ2uq4j\n",
              "y5cvR21trd0lLS2ty/XWNRuR9XYB/rq3FMcrb3wWNiIi6obAaGhowJUrV2y3N2/ejBEjRgCwnJYy\n",
              "NTUV77zzDgBLt8zw8HDExsZ2uq4jWq0Wfn5+dheVStXlmm/z9sDkeMspM7ceuvEpM4mIqIuBkZ2d\n",
              "jfDwcJw9exYzZsxAbGwsqqqqMGXKFCQlJSExMRF79+7Fxo0bbfvk5OQgJycHcXFx+O1vf4vc3FyH\n",
              "1jlb+ojbAQDbD52Hycz+i0REN9Lru9UuXboUa9eu7fJ+eqMJo3/zBeqajXj352MwPjbQCdUREfUd\n",
              "vf4vvW+WVq3CfUlhAIAthZyWIiK6kX4bGACQkWqZlvrsu0o0GowuroaIyL3168AYGTUQkbd5odFg\n",
              "wudHqlxdDhGRW+vXgaFQKDCz9cvvrYfOubgaIiL31q8DAwAebg2MfSUXUF3X7OJqiIjcV78PjMGB\n",
              "3kiN9IdZgO1F511dDhGR2+r3gQEAD6daGipyWoqIqGMMDAD3J4ZCo1Lg+4o6HKusc3U5RERuiYEB\n",
              "YKC3B6a0tgr5sJBHGURE7WFgtEpvnZbaVnSOrUKIiNrBwGg15Y5B0A3QoKpOj29KL7q6HCIit8PA\n",
              "aKVVq3B/UigATksREbWHgdFGurVVyBG2CiEiuhYDo43UyIGICrC0Ctl1pNLV5RARuRUGRhsKhcL2\n",
              "l99bOS1FRGSHgXENa2DsP3kRVWwVQkRkw8C4RlSAN0ZGDWxtFcKjDCIiKwZGOzgtRUR0PQZGO+5P\n",
              "CoWHSoljlfU4ep6tQoiIAAZGu/y9PPCzO1pbhRzi6VuJiAAGRocebv2bjO1F59kqhIgIDIwOTYkP\n",
              "gr+XBtX1euw/yVYhREQMjA54qJV4ICkMALC1kNNSREQMjE5Yp6V2HalCg56tQoiof2NgdGJEhD8G\n",
              "B3qjqcWEz75jqxAi6t8YGJ1QKBSYmWI5yviQp28lon6OgXEDtlYhpRdRWctWIUTUfzEwbiAywAuj\n",
              "owdCxHI2PiKi/oqB4YCHR1hO3/ph4TmI8G8yiKh/YmA44L5ES6uQ41X1OFrBViFE1D8xMByg89Jg\n",
              "6k9aW4WwISER9VMMDAelp1qmpbYVnYfRZHZxNUREPY+B4aBJcYMw0EuDi1f12MdWIUTUDzEwHOSh\n",
              "VuKBZEurEP5NBhH1R10KjEWLFiE6OhoKhQJFRUW25SUlJRg3bhzi4uIwevRoHDly5JbXuSPr32Ts\n",
              "OlKJq2wVQkT9TJcCY9asWdi3bx+ioqLslmdnZyMrKwsnTpzAsmXLkJmZecvr3FFKhD9iAr3R3GLG\n",
              "p4crXF0OEVGP6lJgTJw4EeHh4XbLqqurUVBQgDlz5gAAMjIyUF5ejpMnT970OnelUChsRxmcliKi\n",
              "/uaWv8MoLy9HaGgo1Go1AMugGhkZibKyspte1xG9Xo+6ujq7i8lkutWn0CUzWwPjwKlLqKht6tHH\n",
              "JiJypV71pffq1auh0+nsLgcPHuzRGiJu80Ja9G2WViGHzvfoYxMRudItB0ZERAQqKipgNFq+BBYR\n",
              "lJWVITIy8qbXdWT58uWora21u6Slpd3qU+gy63kythaeZasQIuo3bjkwgoKCkJqainfeeQcAsGXL\n",
              "FoSHhyM2Nvam13VEq9XCz8/P7qJSqW71KXTZvYmh8FArUVJ9FUfOs1UIEfUPCunCR+Ts7Gzs3LkT\n",
              "lZWVCAgIgK+vL06ePInjx48jMzMTly5dgp+fH3Jzc5GYmAgAN73OUUuXLsXatWu7tE93eP7dQuw8\n",
              "XIF54wdj5QPDevzxiYh6WpcCwx25KjC+OFqFn28sQKCPFv93+c+gVvWqr4OIiLqMo9xNmhQ/CLd5\n",
              "e+DiVT3y2SqEiPoBBsZN0qiUeLC1VchWdrAlon6AgXELrH/E9/mRStQ3t7i4GiIi52Jg3IKkcB1i\n",
              "BnlDbzTj0+8qXV0OEZFTMTBugUKhQLq1VQinpYioj2Ng3KK2rULOXWGrECLquxgYtyh8oBfGDL4N\n",
              "ALCNDQmJqA9jYHSD9NQfO9j28j9rISLqEAOjG9yTGAqtWomT1Vfx3Tm2CiGivomB0Q38PDW4a1gw\n",
              "AGDrobMuroaIyDkYGN0ko3Va6qOi82gxmV1cDRFR92NgdJM7hw5CgLcHLjUYkF9ywdXlEBF1OwZG\n",
              "N9GolHiArUKIqA9jYHQj66+ldh+tQh1bhRBRH8PA6EaJt+sQG+RjaRVyuMLV5RARdSsGRjdSKBS2\n",
              "hoScliKivoaB0c2srUK+/eEyztY0urgaIqLuw8DoZrf7D8DYGEurkO1F511cDRFR92FgOEH6iHAA\n",
              "wNbCs2wVQkR9BgPDCe5JDIFWrUTphQYUn611dTlERN2CgeEEvp4aTE8IAWBpSEhE1BcwMJzEemKl\n",
              "j//NViFE1DcwMJzkzqGBCPSxtAr5+gRbhRBR78fAcBK1SokHk/k3GUTUdzAwnMjWKuT7KtQ2sVUI\n",
              "EfVuDAwnSgjzw9AgHxjYKoSI+gAGhhMpFAo83HqUsZW/liKiXo6B4WQzU26HQgEc/OEyyi+zVQgR\n",
              "9V4MDCcL8x+An8YEAAC28SiDiHoxBkYPsHaw/fDQObYKIaJei4HRA+5JDIWnRolTFxvwb7YKIaJe\n",
              "ioHRA3y0akwf1toqpPCsi6shIro5DIweYv2bjI/+fR4GI1uFEFHvw8DoIRNiAxHoo0VNYwv2slUI\n",
              "EfVC3RoY0dHRiI+PR0pKClJSUpCXlwcAKCkpwbhx4xAXF4fRo0fjyJEjtn06W9eXqFVKPJQSBgD4\n",
              "8BCnpYio9+n2I4y8vDwUFRWhqKgIs2fPBgBkZ2cjKysLJ06cwLJly5CZmWnbvrN1fY3111JffF+N\n",
              "2ka2CiGi3sXpU1LV1dUoKCjAnDlzAAAZGRkoLy/HyZMnO13XFyWE+SE+2BcGoxk72SqEiHqZbg+M\n",
              "p59+GomJiZg/fz4uXLiA8vJyhIaGQq1WA7C0y4iMjERZWVmn69qj1+tRV1dndzGZTN39FJymbasQ\n",
              "TksRUW/TrYHx9ddfo7i4GIWFhQgMDMTcuXO78+6xevVq6HQ6u8vBgwe79TGc7aGUMCgUwL9O17BV\n",
              "CBH1Kt0aGJGRkQAAjUaDJUuWID8/HxEREaioqIDRaAQAiAjKysoQGRnZ6br2LF++HLW1tXaXtLS0\n",
              "7nwKTheqG4BxQyytQnj6ViLqTbotMBoaGnDlyhXb7c2bN2PEiBEICgpCamoq3nnnHQDAli1bEB4e\n",
              "jtjY2E7XtUer1cLPz8/uolKpuusp9Jj0EeEAgK2FZ9kqhIh6DXV33VFVVRUyMjJgMpkgIoiJicHG\n",
              "jRsBADk5OcjMzMSqVavg5+eH3Nxc236dreur7h4egv+z7TucvtSIQ+VXkBo50NUlERHdULcFRkxM\n",
              "DA4dOtTuuvj4eBw4cKDL6/oqb60aMxKCsa3oPD4sPMfAIKJegX/p7SIPp1qmpT4uZqsQIuodGBgu\n",
              "Mn5IAAb5anGlsQVfHa92dTlERDfEwHARtUqJma2tQrYW8tdSROT+GBgu9HDrr6W+PMZWIUTk/hgY\n",
              "LjQszA93hPjCYDJjx+Hzri6HiKhTDAwXs52+ldNSROTmGBguNnPE7VAqgIIzNThzqcHV5RARdYiB\n",
              "4WLBfp4YHxsIgK1CiMi9MTDcgG1a6tA5tgohIrfFwHADMxJCMECjwplLjSgsu+LqcoiI2sXAcAPe\n",
              "WjXuGR4CwNKQkIjIHTEw3IT1xEo7iiugN/aek0IRUf/BwHAT44YEIthPi9qmFuw5dsHV5RARXYeB\n",
              "4SZUSgUeSuHpW4nIfTEw3Ij111JfHqvGlUaDi6shIrLHwHAjPwn1w09C/dBiEnxcXOHqcoiI7DAw\n",
              "3Ey6rVUIp6WIyL0wMNzMQylhUCqAwrIrOH2RrUKIyH0wMNxMEFuFEJGbYmC4oYzW07eyVQgRuRMG\n",
              "hhuanhAMLw8Vyi434v+dqXF1OUREABgYbsnLQ427ra1COC1FRG6CgeGm0ltP37qTrUKIyE0wMNzU\n",
              "T4cEIMTPs7VVSLWryyEiYmC4K5VSgYdGhAEAtvD0rUTkBhgYbsw6LfXV8WrUNLBVCBG5ltrVBVDH\n",
              "4kN8MSzUD0cr6rCj+Dye+mm0q0sioh5gMgsaDEY06k22f6/qjWg0GNFgMKFRb/m3QW+0rU8I88Nj\n",
              "aZFOrYuB4ebSU2/H0Z112HroHAODyA2ZzGIZyNsM7g0Gy+B+Vf/j4N7eIG/Z7vplzS3mLtdxb2II\n",
              "A6O/ezAlDKs++R6Hyq7g1IWriBnk4+qSiNya0WSGwWSGwWi56I0/3tYbf1xuMJnsl5nM0Lf8uG2j\n",
              "wfRjEFgH9NbBve0gfzODu6NUSgW8PVTw1qrh1fqvt4ca3loVvOz+VeOOEF+n1WHFwHBzQb6euHPo\n",
              "IOw9cQHbDp3D0unxri6JqEMiAoPJbPuk3GQw2T5d641m6I0muwHaYDeA/zh4229jandAvzYMDK33\n",
              "b3ZRcwSVUgEvDxV82gzuXh6q1gG+zeBuXae1XLcO/NYwaLuvVq2EQqFwzRNqBwOjF0hPvR17T1zA\n",
              "Pw6cQUn1VQT5ahHk54lBvlrLdV9PBPlpcZuXB5RK93lzkXszmsxoMJhaB3X7qZRGg8luysT6Sbvt\n",
              "HLpluf2+TQYTjK4asduhVAAeaiU8VEp4qC0DsPW2VmNdrmyzjeWiVSttg7t1YLcM4vaf7q1h4I6D\n",
              "uzMwMHqB6cNCcJu3By43GPDpd5UdbqdWKhDoo0WQnyVIBvl6toZLa6i0Xg/00UKj4g/kehujyYy6\n",
              "ZiNqGg240thi+RLUOj9uG+R/vG0Z4Nsb5C23DUbnTaUAaB10LYOrl4cKnhqV3cBsG7yt1+0Gb9V1\n",
              "A/q122jVHdxfm9tqvs+7FQOjFxjgocKOFyegqPwKquuaUV2v//FS14wL9XpcajDAaBZU1jWjsq65\n",
              "0/tTKIDbvDwsRyh+rUFivdhuW45aPDWqHnqW/YeIoF5vRG1jC2oaDahpbMGV1hCwhsGVtsubWlDT\n",
              "YEBds9Ep9bSdJx/QOoXSdlrEy+Oa+XJrCGjtt7Xtq1XBS6PiYN0HMTB6iTD/AQjzH9Dh+haTGRev\n",
              "6lFdZw2TZtv1C/WtIVOnx4WrepjMgksNBlxqMOBYZX2nj+vrqbYLkLbXB7W57qtV9/nD8fY0t5hs\n",
              "g/yPg731unXQtwaAAbVNltu3Mm3jq1VD56WBn6fGMphfMxfe/qBvP73ipVXDS6OCl1YFD1Xfn0qh\n",
              "7uEWgVFSUoK5c+fi4sWL0Ol02LBhAxISElxdVq+iUSkRqhuAUF3HoQIAZrPgcqOhNUyaWwNFf82R\n",
              "iyVs9EYz6puNqG82ovRC5ydz8tQo7aa9gnw94aNVQ6lUQKVQQKUElEoFlArLbctyy6dbhUIBlbLN\n",
              "ciWgVLRuq/zxX5USlm2vWa5UoM3jWJYrlWjzOIrWx4H94yjabKtUoNFgsvt0X9NosDsKqG0yoKah\n",
              "xTbw1zQabukXMlq1EgO9PODvpbH96+/lgYFemjbXrestt3UDNJxOJJdxi8DIzs5GVlYWMjMz8cEH\n",
              "HyAzMxP/+te/XF1Wn6Rs/Z4j0EeLYfDrcDsRQV2z0XJ00s5Riy1s6vSo11t+Wlh2uRFllxt78Nm4\n",
              "B5VSAf8Bmg4G/msCYYAHBnpbbnO6j3obhbj4DD3V1dWIjY3F5cuXoVarISIIDQ3Fvn37EBsbe8P9\n",
              "ly5dirVr1/ZApdSRJoPJFiBtj1wa9UaYBTCJwGwWmMwCkwhEYLtuXW4WsWzbet3Uulxa9+9oubn1\n",
              "fmzL2t5vJ8s7etf7eao7HOyvC4MBHvD31vTb6Tjqf1x+hFFeXo7Q0FCo1ZZSFAoFIiMjUVZWdl1g\n",
              "6PV66PV6u2UmE1t/u9oADxWiArwRFeDt6lIcJu0EFH9VQ9S5XvV/x+rVq6HT6ewuBw8edHVZ1AtZ\n",
              "vzfxUCvhqbF8OcywIOqcy/8PiYiIQEVFBYxGy08GRQRlZWWIjLy+J8ry5ctRW1trd0lLS+vpkomI\n",
              "+iWXB0ZQUBBSU1PxzjvvAAC2bNmC8PDwdr+/0Gq18PPzs7uoVPzikIioJ7j8OwwAyMnJQWZmJlat\n",
              "WgU/Pz/k5ua6uiQiIrqGy38ldavS09MRHR3d5f1MJhMOHjyItLS0XnGUwnqdi/U6F+t1rlutNyoq\n",
              "CosXL77hdr0+MG5WXV0ddDodamtr4efX8d8juAvW61ys17lYr3P1VL0u/w6DiIh6BwYGERE5hIFB\n",
              "REQO6beBodVq8dprr0Gr1bq6FIewXudivc7Fep2rp+rtt196ExFR1/TbIwwiIuoaBgYRETmEgUFE\n",
              "RA5hYHTBm2++icrKSleX4dZOnz6Nv/71r51uM2rUKHz11Vc9U1AXnD9/HnfeeafLHr+5uRkzZ85E\n",
              "XFwckpOTMW3aNJw8eRIAMHnyZAwePBgpKSlISUnBunXrbPtlZ2cjMTERP/vZz1BbWwvA0sTznnvu\n",
              "QWlpqVNrjo6ORnx8vK2uvLw8AJazaI4bNw5xcXEYPXo0jhw5AgBoaWnBzJkzkZycjPT0dFvT0ebm\n",
              "ZkycOBE1NTVOq/XSpUu2OlNSUhAXFwe1Wo3Lly+77evrdoQcFhUVJYcOHXJ1GW5tz549kpyc3Ok2\n",
              "I0eOlD179vRIPb1JU1OT7Ny5U8xms4iIrF+/XiZNmiQiIpMmTZIPP/zwun0OHz4sU6ZMERGRX/3q\n",
              "V7J+/XoREfnb3/4mv/vd75xec0f/T0yZMkVyc3NFROT999+XUaNGiYjIxx9/LM8884yIiDzzzDPy\n",
              "8ccfi4jIK6+8Inl5eU6vt60//OEPcv/994uI+76+7qZPHGEcOHAAEyZMQHJyMpKSkrB9+3YUFBRg\n",
              "3LhxSEpKQlpaGvbv3w/A8gnY39/ftu/Vq1ftzpamUCiwatUqpKWlYfDgwbZGiL/+9a9x/vx5zJ49\n",
              "GykpKSgqKrqpWhUKBd544w2MGTMG0dHR2LZtG1avXo1Ro0Zh6NChdp+8d+3ahQkTJmDkyJFIS0vD\n",
              "nj17AACVlZWYMmUKRo4ciYSEBLzwwgswmy3nlt6wYQPuuusuPP7440hMTMSoUaNw6tSpm6r1Rpqa\n",
              "mjB79mwMGzYMycnJmD59Op599lkcP34cKSkpePDBBwEA33zzDVJSUjB8+HA888wztk+VPcXR1/za\n",
              "90ZH7wVn8fT0xL333mt7P44dOxanT5/udB+NRgO9Xg+z2YyGhgZ4eHigoqICmzdvxtKlS51ab0eq\n",
              "q6tRUFCAOXPmAAAyMjJQXl6OkydPQqPRoLHRchrfxsZGeHh4oLi4GMeOHcOjjz7ao3W+9dZbmD9/\n",
              "fqfbuPL1dfR9azQaMWPGDIwaNQoJCQl44okn0NDQAAB49913MWrUKOj1eogIHnjgAbzxxhs3X5Sr\n",
              "E+tWXbp0SYKCguTrr78WERGTySRVVVUSEREhn332mYiI5OfnS3BwsNTX18sPP/wgOp3Otn99fb20\n",
              "fRkAyJo1a0RE5PvvvxcfHx9paWkRke45wgAgb775poiIfPHFF+Lt7W37JPbPf/7T9kmstLRUxo4d\n",
              "K7W1tSIiUlJSIiEhIdLc3CxNTU1SX18vIiJGo1Huu+8+2bx5s4iI5Obmip+fn5w6dUpERJYtWyZZ\n",
              "WVm3VHNHtm7dKtOnT7fdvnTp0nVHGHq9XsLDw2X37t0iIrJr1y4B0KNHGI6+5te+Nzp7L/SEOXPm\n",
              "yKJFi0TE8gk4Pj5ehg8fLo8++qiUlpbatluxYoUkJyfLrFmzpKGhQWbPni0FBQU9UmNUVJQkJibK\n",
              "8OHDZd68eVJdXS0FBQUSFxdnt93o0aPlf//3f8VkMsnPf/5zSUpKkqysLGlpaZGpU6dKeXl5j9Rr\n",
              "tX//fgkODrb993TH19fR963ZbJaLFy/arj/77LOyevVq2/1kZWXJ888/L7///e/l7rvvth3B3lRN\n",
              "N72nm9ixY4fceeeddsuKi4slKirKbllSUpLk5+c7FBgVFRW22/7+/rY3c3cFhvX+r1y5IgCkqalJ\n",
              "REROnz5tq+1Pf/qTBAYGSnJysu0SFhYmJ06ckIaGBlm4cKEkJSVJYmKiBAcHy7Jly0TEEhgzZsyw\n",
              "Pd62bdtk6tSpt1RzR0pLSyUiIkKee+45ee+996Suru66wPj3v/8t0dHRdvvFxMT0eGA48pq3Fxgd\n",
              "vRec7Y033pCxY8dKQ0ODiIiUlZWJiGVAWL9+vfzkJz9pd79t27bJyy+/LBcvXpTMzExJT0+X9957\n",
              "z2l1njlzRkREDAaD/Od//qfcc889nQbGtdatWyfr16+XH374QR5//HFJT09vd7vuNm/ePPmP//gP\n",
              "2213fH0dfd+aTCZZsWKFpKSkyPDhwyUiIkJmz55tu5+mpiZJSkqSiIgIuXDhwi3V1CempBxhPcxX\n",
              "q9V25wFvbm6+bltPT0/bdZVK1e1TKNb7t7Yhbnu77ZkHp02bhqKiItvl3LlzGDp0KNauXYvq6mp8\n",
              "++23KC4uxhNPPGH3PJxdv1VMTAyOHj2Ku+++G/v378fw4cMd+tKy7RRgT3HkNe9sP0e27S5r1qzB\n",
              "1q1b8emnn8LLywuA5cyUgOW1e+GFF3Dq1ClcunTJbr+6ujqsWbMGv/rVr/Dmm29i0qRJyMvLw69/\n",
              "/Ws0NTU5pVbrmTE1Gg2WLFmC/Px8h8+ieebMGXzyySdYuHAhXn31VWRlZWHDhg148cUXnVKr1dWr\n",
              "V/HPf/4T8+bNsy1z19fXkfftpk2b8OWXX2Lv3r04fPgwXn75ZbvxoLq6GjU1NTCbzbhy5cot1dPr\n",
              "A2PcuHEoKSlBfn4+AMBsNiM4OBhmsxm7d+8GYJlDr6ysREpKCkJCQiAiOHr0KABg48aNDj+Wn5+f\n",
              "7VcSzjZjxgx88cUXKC4uti2znr+8pqYGISEh8PT0RGVlJd5///0eqelaZ8+ehUKhwIMPPog1a9ZA\n",
              "RBAQEGD3Gt1xxx0wGo2271+++OKL/vfLki5Yu3YtNm/ejN27d9u+TzEajaiqqrJts2XLFgQHByMg\n",
              "IMBu31/84hdYuXIlvLy80NDQAIVCAYVCgZaWFhgMhm6vtaGhwW4A2rx5M0aMGOHwWTQXL16MdevW\n",
              "QalU2uq1XnemvLw8JCcn44477gDgvq+vo2pqahAYGAg/Pz/U19djw4YNtnVGoxGPPfYYXn/9daxd\n",
              "uxaPPvoo9Hr9TT+WW5xx71YMHDgQH374IV566SXU19dDqVTi9ddfx9atW7Fo0SK89NJL8PT0xAcf\n",
              "fAAfHx8AwPr163H//fcjICAAs2bNcvixFi1ahAULFsDLywsbNmxASkqKk54VEBsbi02bNiE7OxuN\n",
              "jY0wGAwYMWIENm3ahMWLF2PWrFlISEhAWFgY7rrrLqfV0ZnDhw9j+fLlEBEYjUY89dRTGDduHBIS\n",
              "EjB8+HDExMTgo48+Ql5eHhYuXAiTyYTRo0cjOTnZJfW6u7Nnz+Kll15CTEwMpkyZAsDSI+jLL7/E\n",
              "fffdB71eD6VSicDAQHz00Ud2++7fvx9NTU2YNm0aAOD555/H448/jt/97nd46qmnoNPpur3eqqoq\n",
              "ZGRkwGQyQUQQExNj+wB2o7Nobtq0CcnJyUhISABgGYwXLFgAg8GAV199tdtrbeutt97CggULbLf1\n",
              "er1bvr6Oevrpp7F9+3bEx8dj0KBBuPPOO3HmzBkAltc1Pj4ec+fOBQDs3bsXS5YswV/+8pebeiz2\n",
              "kiIiIof0+ikpIiLqGQwMIiJyCAODiIgcwsAgIiKHMDCIiMghDAwiInIIA4OIiBzCwCAiIocwMIiI\n",
              "yCEMDCIicggDg4iIHPL/Af/KhlGVZg8zAAAAAElFTkSuQmCC\n",
              "\">\n",
              "        \n",
              "      </div>\n",
              "      <script></script>\n",
              "      <script type=\"text/javascript\">\n",
              "        (() => {\n",
              "          const chartElement = document.getElementById(\"chart-569df4a2-c66f-4159-83b9-9c7c934a1a00\");\n",
              "          async function getCodeForChartHandler(event) {\n",
              "            const chartCodeResponse =  await google.colab.kernel.invokeFunction(\n",
              "                'getCodeForChart', [\"chart-569df4a2-c66f-4159-83b9-9c7c934a1a00\"], {});\n",
              "            const responseJson = chartCodeResponse.data['application/json'];\n",
              "            await google.colab.notebook.addCell(responseJson.code, 'code');\n",
              "          }\n",
              "          chartElement.onclick = getCodeForChartHandler;\n",
              "        })();\n",
              "      </script>\n",
              "      <style>\n",
              "        .colab-quickchart-chart-with-code  {\n",
              "            display: block;\n",
              "            float: left;\n",
              "            border: 1px solid transparent;\n",
              "        }\n",
              "\n",
              "        .colab-quickchart-chart-with-code:hover {\n",
              "            cursor: pointer;\n",
              "            border: 1px solid #aaa;\n",
              "        }\n",
              "      </style>"
            ]
          },
          "metadata": {}
        },
        {
          "output_type": "display_data",
          "data": {
            "text/plain": [
              "<google.colab._quickchart_helpers.SectionTitle at 0x7b48d15d11b0>"
            ],
            "text/html": [
              "<h4 class=\"colab-quickchart-section-title\">Distributions</h4>\n",
              "<style>\n",
              "  .colab-quickchart-section-title {\n",
              "      clear: both;\n",
              "  }\n",
              "</style>"
            ]
          },
          "metadata": {}
        },
        {
          "output_type": "display_data",
          "data": {
            "text/plain": [
              "import numpy as np\n",
              "from google.colab import autoviz\n",
              "\n",
              "def histogram(df, colname, num_bins=20, figscale=1):\n",
              "  from matplotlib import pyplot as plt\n",
              "  df[colname].plot(kind='hist', bins=num_bins, title=colname, figsize=(8*figscale, 4*figscale))\n",
              "  plt.gca().spines[['top', 'right',]].set_visible(False)\n",
              "  plt.tight_layout()\n",
              "  return autoviz.MplChart.from_current_mpl_state()\n",
              "\n",
              "chart = histogram(_df_3, *['Monthly Charges'], **{})\n",
              "chart"
            ],
            "text/html": [
              "      <div class=\"colab-quickchart-chart-with-code\" id=\"chart-c332e6b5-c180-4da4-aca5-aa80cdd1d6f1\">\n",
              "        <img src=\"data:image/png;base64,iVBORw0KGgoAAAANSUhEUgAAAYwAAADECAYAAACMRRb/AAAAOXRFWHRTb2Z0d2FyZQBNYXRwbG90\n",
              "bGliIHZlcnNpb24zLjcuMSwgaHR0cHM6Ly9tYXRwbG90bGliLm9yZy/bCgiHAAAACXBIWXMAAA9h\n",
              "AAAPYQGoP6dpAAAZrUlEQVR4nO3deVAUZ/4/8PdwOEFBUEQFESbKkXVVEBSJuoDloolbK6zH5jAR\n",
              "NBGjMWqZ1CbGrEfiirtrNMYtXbQSPBITPFB3xTOucTXxVjxCecvhgWTVDCTCAMPn+4c/58fIgD1I\n",
              "M42+X1VT5Tz99PRnnurmbR/TrRMRARER0UM4OboAIiJqGhgYRESkCAODiIgUYWAQEZEiDAwiIlKE\n",
              "gUFERIowMIiISBEGBhERKcLAICIiRRgY9ETKzc2FTqfDxYsXa+2TnJyMV155RdU6VqxYAX9/f1WX\n",
              "QdRQGBjU6OLi4qDT6ZCWlmbVXlJSAg8Pj4f+IbfXrFmz0K9fvwb7PHucPn0aL774Inx9feHu7g6D\n",
              "wYCXXnoJx48fd0g9RI+CgUEO0aVLlxqBsXr1agQGBjqooob37bffIioqCu3atcOBAwdQUlKC7Oxs\n",
              "xMfHY926daott7y8XLXPpicbA4Mc4ve//z1u3ryJQ4cOWdqWLl2KcePG1eiblZWFyMhIeHp6IiQk\n",
              "BPPnz0dVVZVluk6nw+LFi9G3b1+4u7ujW7du2L9/PwDgyy+/xNy5c3HgwAG4u7vD3d0d+/bts8z7\n",
              "3XffISwsDB4eHoiOjkZOTo7Nev/85z+jf//+Vm2FhYVo1qwZsrOzbc4zbtw4DB8+HIsWLYLBYIBO\n",
              "p4OXlxfGjBmD1NRUq75paWkwGAzw9PTEiBEjUFxcbJk2Y8YMhISEwMPDAx07dsRbb72Fu3fvWqYn\n",
              "Jyfjj3/8I8aPHw8fHx8kJCQAANLT0xEUFAQPDw8MHToUEydORFxcnGW+srIyvP/+++jcuTNatWqF\n",
              "mJgYnDhxwjJ9z5496NmzJzw9PeHt7Y2+ffvizp07Nr8rPSGEqJHFxsbK9OnTZcaMGZKcnCwiIvv2\n",
              "7ZOAgAC5dOmSAJALFy6IiMjhw4fF1dVVMjIypKKiQo4ePSq+vr6ycOFCy+cBkO7du8uFCxekoqJC\n",
              "Jk+eLAEBAZbpM2fOlL59+1rVcOXKFQEgAwYMkOvXr0tpaakMGzZMYmJiLH2SkpJk5MiRIiKSn58v\n",
              "Li4ucv78ecv0OXPmSO/evW1+x/PnzwsA2blzZ51jkZ6eLs7OzjJlyhS5e/euXL9+XYKCgmTGjBmW\n",
              "PqtWrZK8vDypqqqSM2fOSOfOneW9996zqtPFxUU+++wzKS8vl19++UX27t0rzZo1k61bt0plZaVk\n",
              "ZWWJm5ubxMbGWs03YMAAKSgokIqKClm8eLH4+PjInTt3RETEz89PPv/8c6mqqhKTySTff/+9/Pzz\n",
              "z3V+H3q8MTCo0d0PjIKCAvHw8JA7d+7Iyy+/LB999JHlD/n9wEhJSZHExESr+RcsWCChoaGW9wBk\n",
              "5cqVlvdnzpwRAFJYWCgidQfG3r17LW1btmwRNzc3y/vqgSEiMmTIEHnnnXdERMRsNktgYKCkp6fb\n",
              "/I779+8XAJKTk1PnWKSnp4ter5fy8nJL2zvvvCPPPfdcrfMsWLBAIiIirOqMjo626vPaa6/JiBEj\n",
              "rNqGDRtmCYz//e9/AkDOnj1r1ScoKEhWr14tIiIGg0GmT58uV69erfM70JODh6TIYfz9/dG/f3/M\n",
              "nz8fmzdvxmuvvVajT0FBATp37mzVFhQUhPz8fKs2Pz8/y79btGgB4N5J9Id5cL7S0lJUVlba7Dth\n",
              "wgSsWLEC5eXl2LFjB4xGI1544QWbfdu2bQsAuHr16kNraNOmDVxdXa3qqF57WloaIiIi4O3tDU9P\n",
              "T0yfPh1FRUVWn/H0009bvb927VqN80EGg8Hy7/sXFfTu3RteXl6W17Vr1yw1/+tf/8Lly5cRGRmJ\n",
              "oKAgzJw5s9axoSeDi6MLoCfb+PHjMXjwYAwbNgy+vr7Izc21mt6xY0dcunTJqu3SpUsICAhQvAwn\n",
              "p4b5f9HAgQPh6emJzMxMfP311xg1ahTc3Nxs9g0ODkZISAhWr16N+Pj4ei/zwIEDmDhxInbu3Il+\n",
              "/frB1dUVCxcuxMcff2zV78Hv2KFDB+Tl5Vm1VX/fvn17AMCpU6dqHctu3bphzZo1AIDs7GwMGjQI\n",
              "/v7+GDt2bL2/DzVt3MMghxo0aBB27dqFhQsX2pw+ZswYZGVlYcOGDTCbzThx4gT+/ve/IyUlRfEy\n",
              "2rdvj/z8fJSVlT1SrTqdDm+88QZSU1ORlZVl8wR9dWlpaVi3bh2mTp2KvLw8iAiKi4uxatUqTJ8+\n",
              "XdEyjUYjnJ2d4ePjA1dXVxw/fhz/+Mc/Hjrfq6++is2bN2PHjh0wm83Yvn07tm7dapkeGBiIxMRE\n",
              "vPnmm5YgKSkpwbZt23Djxg2Ul5cjPT0dP/74IwDA09MTzs7OcHHh/zGfZAwMciidTocBAwbU+uO1\n",
              "3r17Y/369fjLX/6CVq1aYcSIEZg0aRImT56seBkvvPACQkND4efnBy8vL8sVVPUxevRonDt3Ds8+\n",
              "+yy6dOlSZ9+4uDgcOnQI165dQ1RUFDw8PNC9e3ds374dw4cPV7S8gQMH4o033kBcXBw8PT3x/vvv\n",
              "Iykp6aHzxcbGYsmSJZgwYQK8vLyQlpaGkSNH4qmnnrL0WbNmDSIjIxEfHw8PDw+EhoZi+fLlkP/3\n",
              "1Ob169fj17/+NVq0aIHY2FgkJycrWjY9vnQifKY3kVJmsxkBAQH429/+hpEjRzq6HLskJiaiXbt2\n",
              "NX7/QqQU9zCI7LBs2TI4OTlhxIgRji7loTZs2IDi4mJUVFQgIyMDW7ZsaXIhR9rCA5JEChiNRvj7\n",
              "+8PT0xPp6elo1qyZo0t6qH//+98YO3YsysvLERgYiM8//xwxMTGOLouaMB6SIiIiRXhIioiIFGFg\n",
              "EBGRIgwMIiJShIFBRESKaDYwFi1a5OgSiIioGs0GxoP3wSEiIsfSbGAQEZG2qBoYBoMBoaGhCA8P\n",
              "R3h4ODIyMtRcHBERqUj1X3pnZGQgPDxc7cUQEZHKeEiKiIgUUX0PY9SoURARREVFYd68efDx8anR\n",
              "x2QywWQyWbWZzWa1SyMiIjuoei+p/Px8BAQEoKKiAh988AFOnz5t9RCX+2bNmoXZs2dbtUVHR+PA\n",
              "gQP1Xrbhvax6zwsAufN+90jzExE9blQ9JHX/0Y+urq6YMmUK9u3bZ7PftGnTYDQarV5RUVFqlkZE\n",
              "RHZS7ZDUL7/8goqKCnh5eQEAvvrqK/To0cNmX71eD71eb9Xm7OysVmlERFQPqgXGzZs3MWzYMJjN\n",
              "ZogIOnXqhFWrVqm1OCIiUplqgdGpUyecOHFCrY8nIqJGxstqiYhIEQYGEREpwsAgIiJFGBhERKQI\n",
              "A4OIiBRhYBARkSIMDCIiUoSBQUREijAwiIhIEQYGEREpwsAgIiJFGBhERKQIA4OIiBRhYBARkSIM\n",
              "DCIiUoSBQUREijAwiIhIkUYJjPT0dOh0OmzatKkxFkdERCpQPTByc3OxfPlyREdHq70oIiJSkaqB\n",
              "UVVVhddffx2LFy+GXq9Xc1FERKQyFzU/fMGCBejbty8iIyPr7GcymWAymazazGazmqUREZGdVNvD\n",
              "OHPmDDZs2IAPPvjgoX1TU1Ph6elp9Tp8+LBapRERUT2oFhj79u1Dbm4ugoODYTAYcPDgQaSkpGDp\n",
              "0qU1+k6bNg1Go9HqFRUVpVZpRERUD6odkho/fjzGjx9veR8XF4cpU6YgMTGxRl+9Xl/jHIezs7Na\n",
              "pRERUT3wdxhERKSIqie9q/v2228ba1FERKQC7mEQEZEiDAwiIlKEgUFERIowMIiISBEGBhERKWJ3\n",
              "YOzYsUONOoiISOPsDowPP/wQoaGhWLRoEYqLi9WoiYiINMjuwPjuu+/w9ddf48yZMwgJCcGECROQ\n",
              "k5OjRm1ERKQh9TqH0aNHDyxfvhzbt2/Hli1b0L17d8THx+P06dMNXR8REWlEvQLjm2++QUJCAoYO\n",
              "HYo333wThYWFGDduHP7whz80dH1ERKQRdt8a5Fe/+hXatGmDSZMmYejQoZabBA4fPhyfffZZgxdI\n",
              "RETaYHdgfPHFF7U+EGnbtm2PXBAREWmT3Yekjh07htu3b1ve37p1C8uXL2/QooiISHvsDowlS5ag\n",
              "devWlvfe3t5YsmRJgxZFRETaY3dgiEiNNj5/m4jo8Wd3YPj6+mLt2rWW9xkZGfD19W3QooiISHvs\n",
              "Pun9ySefICEhAX/6058AAM2bN8fmzZsbvDAiItIWuwPjmWeeQU5ODs6dOwcACA0NrfX52wMHDkRh\n",
              "YSGcnJzg4eGBTz/9FD169Hi0iomIyCHq9YhWnU4HLy8vVFZW4tq1awCAgICAGv3Wrl0LLy8vAMDG\n",
              "jRuRnJyMkydP1r9aIiJyGLsDY8WKFZg0aRJcXV3h5HTvFIhOp0NRUVGNvvfDAgCMRiN0Ol39KyUi\n",
              "IoeyOzA++ugjHDlyBKGhoYr6jxo1Cnv27AEAbN261WYfk8kEk8lk1cYrr4iItMXuq6TatGmjOCwA\n",
              "YNWqVSgoKMCcOXPw7rvv2uyTmpoKT09Pq9fhw4ftLY2IiFRkd2AkJibik08+QVFREYqLiy2vh0lK\n",
              "SsKePXtw69atGtOmTZsGo9Fo9YqKirK3NCIiUpHdh6SmT58OAJg6dSp0Oh1EBDqdrsYhpJ9++gl3\n",
              "796Fn58fAGDTpk3w9va2+pX4fXq9Hnq93qqttiuviIjIMewOjKqqKkX9jEYjRowYgdLSUjg5OcHH\n",
              "xwdbtmzhiW8ioiaqXpfVHjt2DDk5OXj11Vfx008/obS0tMavvQMDA3kegojoMVKvmw+OGTMGs2bN\n",
              "AnDvbrUvv/xyQ9dFREQaY3dgLFu2DAcPHkTLli0BAJ07d8aPP/7Y4IUREZG22B0Yer0ebm5uVm0u\n",
              "LvU6skVERE2I3YHh4+OD8+fPW05er1ixwuZtQYiI6PFSr7vVvvTSSzh79iw6duyIli1bYsuWLWrU\n",
              "RkREGmJ3YAQFBeHQoUM4d+4cRKTOu9USEdHjw+7AyM/PBwC0aNECAOq8Wy0RET0+7A6MyMhIyy+8\n",
              "y8rKcPfuXXh7e9u8Wy0RET0+7A6MBy+hzczM5DMuiIieAHZfJfWgoUOHIisrqyFqISIiDbN7D6P6\n",
              "nWnNZjMOHTqk6G61RETUtNkdGF5eXpZzGM7OzggODsann36qRm1ERKQhqt2tloiIHi+PfA6DiIie\n",
              "DHbvYTg5Odl8pkVtD1IiIqLHg92B8eGHH6K0tBTjx48HAPzzn/+Em5sbpkyZ0tC1ERGRhtgdGBs3\n",
              "bsSxY8cs7+fMmYPIyEjLo1uJiOjxZPc5jJKSEqtfdRcVFaGkpKRBiyIiIu2xew/j7bffRlhYGAYP\n",
              "HgwA2L59u+Xpe9WVlZXhxRdfRE5ODtzc3NC2bVssXboUQUFBj1w0ERE1Prv3MMaNG4ddu3YhPDwc\n",
              "4eHh2LlzJ8aOHWuzb0pKCs6dO4eTJ08iISEBr7/++iMXTEREjlGvy2q9vb3RrVs3vPXWWwgNDUV5\n",
              "eXmNPk899RQGDx5suaIqOjoaubm5j1QsERE5jt2BsX79ekRHR2P06NEAgB9++AGJiYkPnW/RokVI\n",
              "SEiwOc1kMqG4uNjqxctziYi0xe5zGKmpqTh+/Dh++9vfAgDCwsKQl5dX5zxz587FxYsXsXv37lo/\n",
              "c/bs2VZt0dHR9pbWoAzvPdoNFXPn/a6BKiEi0ga79zCcnZ3h7e1t1dasWbNa+8+fPx+ZmZnYtm0b\n",
              "mjdvbrPPtGnTYDQarV5RUVH2lkZERCqyew/Dw8MDN2/etJyb2L17N1q3bm2z74IFC/DVV1/hm2++\n",
              "gZeXV62fqdfrodfrrdr42FciIm2xOzD++te/4vnnn8fly5fRr18/XLlyxebzMK5evYq3334bnTp1\n",
              "Qv/+/QHcC4ZDhw49etVERNTo7AqMqqoqmM1m7NmzB99//z1EBH369LG59+Dv7w8Raag6iYjIwewK\n",
              "DCcnJ6SkpODkyZN4/vnn1aqJiIg0yO6T3sHBwbh48aIatRARkYbZfQ7j9u3bCA8PR58+feDu7m5p\n",
              "z8zMbNDCiIhIWxQHRkpKCpYtW4akpCQMGTIErVq1UrMuIiLSGMWBcfToUQBAUlISIiIicPz4cdWK\n",
              "IiIi7anXvaR49RMR0ZNH8R5GaWkpTp8+DRFBWVmZ5d/3de/eXZUCiYhIG+wKjCFDhljeV/+3TqfD\n",
              "5cuXG7YyIiLSFMWBwVuTExE92ep1DoOIiJ48DAwiIlKEgUFERIowMIiISBEGBhERKcLAICIiRRgY\n",
              "RESkCAODiIgUUTUwJk2aBIPBAJ1Oh+zsbDUXRUREKlM1MIYPH479+/cjMDBQzcUQEVEjsPsBSvaI\n",
              "iYlR8+OJiKgRqRoYSplMJphMJqs2s9nsoGqIiMgWTQRGamoqZs+ebdUWHR3toGqIiBqX4b2sR5o/\n",
              "d97vGqiSumniKqlp06bBaDRavaKiohxdFhERVaOJPQy9Xg+9Xm/V5uzs7KBqiIjIFlX3MMaNGwd/\n",
              "f39cvXoVgwYNQlBQkJqLIyIiFam6h5GWlqbmxxMRUSPSxDkMIiLSPgYGEREpwsAgIiJFGBhERKQI\n",
              "A4OIiBRhYBARkSIMDCIiUoSBQUREijAwiIhIEQYGEREpwsAgIiJFGBhERKQIA4OIiBRhYBARkSIM\n",
              "DCIiUoSBQUREijAwiIhIEVUD48KFC+jTpw9CQkLQq1cv/PDDD2oujoiIVKT6M71TUlJw/vx5vPvu\n",
              "u0hOTlZzcUREpCLVAqOoqAhHjx7FK6+8AgAYNmwYCgoKcPHiRbUWSUREKnJR64MLCgrg6+sLF5d7\n",
              "i9DpdAgICEB+fj6CgoKs+ppMJphMJqs2s9msVmlERFQPqgWGPVJTUzF79myrtmeeeQZTp05VNL/Z\n",
              "bMbhw4cRFRUFZ2dnAMDQBq/SPlOn7rbZbqtWLWtK9bJW9TSleptirQmPWGttf2+UCgwMxOTJkx/a\n",
              "Tyci8khLqkVRURGCgoJw+/ZtuLi4QETg6+uL/fv3K9rD0Ov10Ov1ipZVXFwMT09PGI1GtGzZssG+\n",
              "gxqaUq1A06qXtaqnKdXLWtWj2jmMtm3bIiIiAl988QUAYMOGDfD3968RFsC9cGjZsqXVS2lYEBFR\n",
              "41D1kFRaWhqSk5Mxd+5ctGzZEunp6WoujoiIVKRqYISGhuLAgQNqLoKIiBrJY/FLb71ej5kzZzaJ\n",
              "w1hNqVagadXLWtXTlOplrepR7aQ3ERE9Xh6LPQwiIlIfA4OIiBRhYBARkSJNPjC0dkfcsrIyJCYm\n",
              "IiQkBGFhYYiPj7fcP6uoqAjPPfccgoOD0bVrV/z3v/+1zFfXtMaQnp4OnU6HTZs2abZWk8mEiRMn\n",
              "Ijg4GN26dbPcp6yudcCR68fWrVsRERGB8PBwdO3aFStXrgSgjbGdNGkSDAYDdDodsrOzLe31HUs1\n",
              "x9lWrXVtZ4Bjx7i2sb3vwW3N0fXaRZq4/v37S3p6uoiIrFu3Tnr27OnQekpLSyUrK0uqqqpERGTx\n",
              "4sUSGxsrIiKjR4+WmTNniojI4cOHpUOHDlJeXv7QaWq7cuWKPPvssxIdHS0bN27UbK1TpkyRiRMn\n",
              "Wsb2xo0bIlL3OuCo9aOqqkpatWolJ0+eFJF7Y6zX66W4uFgTY7t3714pKCiQwMBAOXHihKW9vmOp\n",
              "5jjbqrWu7UzEsetvbWMrYntbc3S99mjSgXHz5k3x8PCQiooKEbm3kbZr104uXLjg4Mr+vyNHjkhg\n",
              "YKCIiLRo0cLyR05EpFevXrJr166HTlOT2WyWAQMGyNGjRyU2NtayEmut1p9//lk8PDzEaDRatde1\n",
              "Djhy/aiqqpLWrVvL3r17RUTk5MmT4ufnJyaTSVNjW/2PWn3HsrHG2dYf4Puqb2ci2lh/H6y3tm1N\n",
              "K/Uq0aQPSdV1R1ytWLRoERISEnDr1i1UVFSgffv2lmkGgwH5+fl1TlPbggUL0LdvX0RGRlratFjr\n",
              "pUuX0Lp1a8ydOxc9e/bEb37zG+zevbvOdcCR64dOp0NGRgaGDh2KwMBA9OvXDytXrkRJSYnmxva+\n",
              "+o6lFrbD+9sZoM31F7C9rWm5Xls0cbfax9XcuXNx8eJF7N69G6WlpY4up4YzZ85gw4YNjj0mqlBl\n",
              "ZSXy8vLQpUsXzJs3DydOnEB8fDyysrIcXZpNlZWVmDNnDjIzMxETE4MjR45gyJAhNo9p06Opvp1p\n",
              "VVPa1urSpPcwOnbsiBs3bqCyshIAICLIz89HQECAgysD5s+fj8zMTGzbtg3NmzeHt7c3XFxcUFhY\n",
              "aOmTm5uLgICAOqepad++fcjNzUVwcDAMBgMOHjyIlJQUrF27VnO1BgQEwMnJCSNHjgQA9OjRA08/\n",
              "/TTy8vJqXQccuX5kZ2fj+vXriImJAQD06tUL/v7+OHXqlObG9r66xqu+09T24HYGoElta0uXLtVk\n",
              "vbVyyIGwBhQbG2t1si0yMtKxBYnIxx9/LBEREXL79m2r9qSkJKuTV35+fpaTV3VNayzVj6tqsdb4\n",
              "+HjJysoSEZHLly+Lt7e3XL16tc51wFHrR2Fhobi7u0tOTo6IiFy4cEFatWoleXl5mhrbB4+z13cs\n",
              "G2OcH6y1tu1MRBvrb13nXB48h6GFepVo8oFx9uxZiY6OluDgYImMjJRTp045tJ6CggIBIJ06dZKw\n",
              "sDAJCwuTqKgoEbn3RyQ+Pl6CgoKkS5cu8p///McyX13TGkv1lViLtV66dEni4uKka9eu0r17d1m/\n",
              "fr2I1L0OOHL9WLNmjaXWrl27ypdffiki2hjblJQU6dChgzg7O0vbtm2lc+fOIlL/sVRznG3VWtd2\n",
              "JuLYMa5tbKt7MDC0sE4owXtJERGRIk36HAYRETUeBgYRESnCwCAiIkUYGEREpAgDg4iIFGFgEBGR\n",
              "IgwMIiJShIFBRESKMDCIiEgRBgYRESnCwCAiIkX+D4lmT4DOsaySAAAAAElFTkSuQmCC\n",
              "\">\n",
              "        \n",
              "      </div>\n",
              "      <script></script>\n",
              "      <script type=\"text/javascript\">\n",
              "        (() => {\n",
              "          const chartElement = document.getElementById(\"chart-c332e6b5-c180-4da4-aca5-aa80cdd1d6f1\");\n",
              "          async function getCodeForChartHandler(event) {\n",
              "            const chartCodeResponse =  await google.colab.kernel.invokeFunction(\n",
              "                'getCodeForChart', [\"chart-c332e6b5-c180-4da4-aca5-aa80cdd1d6f1\"], {});\n",
              "            const responseJson = chartCodeResponse.data['application/json'];\n",
              "            await google.colab.notebook.addCell(responseJson.code, 'code');\n",
              "          }\n",
              "          chartElement.onclick = getCodeForChartHandler;\n",
              "        })();\n",
              "      </script>\n",
              "      <style>\n",
              "        .colab-quickchart-chart-with-code  {\n",
              "            display: block;\n",
              "            float: left;\n",
              "            border: 1px solid transparent;\n",
              "        }\n",
              "\n",
              "        .colab-quickchart-chart-with-code:hover {\n",
              "            cursor: pointer;\n",
              "            border: 1px solid #aaa;\n",
              "        }\n",
              "      </style>"
            ]
          },
          "metadata": {}
        }
      ]
    },
    {
      "cell_type": "markdown",
      "source": [
        "The monthly charges of the churn users are higher than those who do not stir. The data shows that over 50% of people who churn have a higher monthly charge fee. I suggest They give a discount to consumer once they sign the extended contract or give special offer with gift for new consumer."
      ],
      "metadata": {
        "id": "uVawfmYm51uu"
      }
    },
    {
      "cell_type": "markdown",
      "metadata": {
        "id": "RnMK2QHi7dCm"
      },
      "source": [
        "### 6- Fit a random forest classifier and decision tree classifier on the training set and test them on the testing set. Which one provides a better accuracy? Why?\n",
        "\n"
      ]
    },
    {
      "cell_type": "code",
      "source": [
        "from sklearn.ensemble import RandomForestClassifier\n",
        "from sklearn.tree import DecisionTreeClassifier"
      ],
      "metadata": {
        "id": "gkmmYZOB6acZ"
      },
      "execution_count": 35,
      "outputs": []
    },
    {
      "cell_type": "code",
      "source": [
        "X_train = train_data.drop(columns = ['CustomerID','Churn'])\n",
        "X_train['Gender'] = X_train['Gender'].map({'Female' : 1, 'Male' : 2})\n",
        "X_train['Contract'] = X_train['Contract'].map({'Month-to-month' : 1, 'One year' : 2,'Two year':3})\n",
        "X_train['Payment Method']=X_train['Payment Method'].map({'Electronic check':1,'Mailed check':2,'Bank transfer (automatic)':3,'Credit card (automatic)':4})\n",
        "\n",
        "y_train = train_data['Churn']"
      ],
      "metadata": {
        "id": "_nxRP0Se6fmQ"
      },
      "execution_count": 36,
      "outputs": []
    },
    {
      "cell_type": "code",
      "source": [
        "X_train"
      ],
      "metadata": {
        "colab": {
          "base_uri": "https://localhost:8080/",
          "height": 423
        },
        "id": "6D3Dk2wwVA_a",
        "outputId": "51ca0ca5-1eeb-4149-a5d3-1198002b939f"
      },
      "execution_count": 37,
      "outputs": [
        {
          "output_type": "execute_result",
          "data": {
            "text/plain": [
              "      Gender  Senior Citizen  Partner  Tenure  Phone Service  Multiple Lines  \\\n",
              "0          1               0        1       1              0               0   \n",
              "1          2               0        0      34              1               0   \n",
              "2          2               0        0       2              1               0   \n",
              "3          2               0        0      45              0               0   \n",
              "4          1               0        0       2              1               0   \n",
              "...      ...             ...      ...     ...            ...             ...   \n",
              "5595       1               0        0       2              1               0   \n",
              "5596       1               0        0      65              1               1   \n",
              "5597       2               1        0      22              1               1   \n",
              "5598       1               0        1      55              1               0   \n",
              "5599       2               0        1       9              1               0   \n",
              "\n",
              "      Online Backup  Streaming TV  Streaming Movies  Contract  Payment Method  \\\n",
              "0                 1             0                 0         1               1   \n",
              "1                 0             0                 0         2               2   \n",
              "2                 1             0                 0         1               2   \n",
              "3                 0             0                 0         2               3   \n",
              "4                 0             0                 0         1               1   \n",
              "...             ...           ...               ...       ...             ...   \n",
              "5595              0             0                 0         1               2   \n",
              "5596              0             0                 0         3               3   \n",
              "5597              0             1                 0         1               3   \n",
              "5598              0             0                 0         2               4   \n",
              "5599              1             1                 0         1               2   \n",
              "\n",
              "      Monthly Charges  \n",
              "0               29.85  \n",
              "1               56.95  \n",
              "2               53.85  \n",
              "3               42.30  \n",
              "4               70.70  \n",
              "...               ...  \n",
              "5595            19.40  \n",
              "5596            26.50  \n",
              "5597            90.50  \n",
              "5598            19.15  \n",
              "5599            94.85  \n",
              "\n",
              "[5600 rows x 12 columns]"
            ],
            "text/html": [
              "\n",
              "  <div id=\"df-f22cdf38-db13-4e05-9a1d-c07e4fd83c13\" class=\"colab-df-container\">\n",
              "    <div>\n",
              "<style scoped>\n",
              "    .dataframe tbody tr th:only-of-type {\n",
              "        vertical-align: middle;\n",
              "    }\n",
              "\n",
              "    .dataframe tbody tr th {\n",
              "        vertical-align: top;\n",
              "    }\n",
              "\n",
              "    .dataframe thead th {\n",
              "        text-align: right;\n",
              "    }\n",
              "</style>\n",
              "<table border=\"1\" class=\"dataframe\">\n",
              "  <thead>\n",
              "    <tr style=\"text-align: right;\">\n",
              "      <th></th>\n",
              "      <th>Gender</th>\n",
              "      <th>Senior Citizen</th>\n",
              "      <th>Partner</th>\n",
              "      <th>Tenure</th>\n",
              "      <th>Phone Service</th>\n",
              "      <th>Multiple Lines</th>\n",
              "      <th>Online Backup</th>\n",
              "      <th>Streaming TV</th>\n",
              "      <th>Streaming Movies</th>\n",
              "      <th>Contract</th>\n",
              "      <th>Payment Method</th>\n",
              "      <th>Monthly Charges</th>\n",
              "    </tr>\n",
              "  </thead>\n",
              "  <tbody>\n",
              "    <tr>\n",
              "      <th>0</th>\n",
              "      <td>1</td>\n",
              "      <td>0</td>\n",
              "      <td>1</td>\n",
              "      <td>1</td>\n",
              "      <td>0</td>\n",
              "      <td>0</td>\n",
              "      <td>1</td>\n",
              "      <td>0</td>\n",
              "      <td>0</td>\n",
              "      <td>1</td>\n",
              "      <td>1</td>\n",
              "      <td>29.85</td>\n",
              "    </tr>\n",
              "    <tr>\n",
              "      <th>1</th>\n",
              "      <td>2</td>\n",
              "      <td>0</td>\n",
              "      <td>0</td>\n",
              "      <td>34</td>\n",
              "      <td>1</td>\n",
              "      <td>0</td>\n",
              "      <td>0</td>\n",
              "      <td>0</td>\n",
              "      <td>0</td>\n",
              "      <td>2</td>\n",
              "      <td>2</td>\n",
              "      <td>56.95</td>\n",
              "    </tr>\n",
              "    <tr>\n",
              "      <th>2</th>\n",
              "      <td>2</td>\n",
              "      <td>0</td>\n",
              "      <td>0</td>\n",
              "      <td>2</td>\n",
              "      <td>1</td>\n",
              "      <td>0</td>\n",
              "      <td>1</td>\n",
              "      <td>0</td>\n",
              "      <td>0</td>\n",
              "      <td>1</td>\n",
              "      <td>2</td>\n",
              "      <td>53.85</td>\n",
              "    </tr>\n",
              "    <tr>\n",
              "      <th>3</th>\n",
              "      <td>2</td>\n",
              "      <td>0</td>\n",
              "      <td>0</td>\n",
              "      <td>45</td>\n",
              "      <td>0</td>\n",
              "      <td>0</td>\n",
              "      <td>0</td>\n",
              "      <td>0</td>\n",
              "      <td>0</td>\n",
              "      <td>2</td>\n",
              "      <td>3</td>\n",
              "      <td>42.30</td>\n",
              "    </tr>\n",
              "    <tr>\n",
              "      <th>4</th>\n",
              "      <td>1</td>\n",
              "      <td>0</td>\n",
              "      <td>0</td>\n",
              "      <td>2</td>\n",
              "      <td>1</td>\n",
              "      <td>0</td>\n",
              "      <td>0</td>\n",
              "      <td>0</td>\n",
              "      <td>0</td>\n",
              "      <td>1</td>\n",
              "      <td>1</td>\n",
              "      <td>70.70</td>\n",
              "    </tr>\n",
              "    <tr>\n",
              "      <th>...</th>\n",
              "      <td>...</td>\n",
              "      <td>...</td>\n",
              "      <td>...</td>\n",
              "      <td>...</td>\n",
              "      <td>...</td>\n",
              "      <td>...</td>\n",
              "      <td>...</td>\n",
              "      <td>...</td>\n",
              "      <td>...</td>\n",
              "      <td>...</td>\n",
              "      <td>...</td>\n",
              "      <td>...</td>\n",
              "    </tr>\n",
              "    <tr>\n",
              "      <th>5595</th>\n",
              "      <td>1</td>\n",
              "      <td>0</td>\n",
              "      <td>0</td>\n",
              "      <td>2</td>\n",
              "      <td>1</td>\n",
              "      <td>0</td>\n",
              "      <td>0</td>\n",
              "      <td>0</td>\n",
              "      <td>0</td>\n",
              "      <td>1</td>\n",
              "      <td>2</td>\n",
              "      <td>19.40</td>\n",
              "    </tr>\n",
              "    <tr>\n",
              "      <th>5596</th>\n",
              "      <td>1</td>\n",
              "      <td>0</td>\n",
              "      <td>0</td>\n",
              "      <td>65</td>\n",
              "      <td>1</td>\n",
              "      <td>1</td>\n",
              "      <td>0</td>\n",
              "      <td>0</td>\n",
              "      <td>0</td>\n",
              "      <td>3</td>\n",
              "      <td>3</td>\n",
              "      <td>26.50</td>\n",
              "    </tr>\n",
              "    <tr>\n",
              "      <th>5597</th>\n",
              "      <td>2</td>\n",
              "      <td>1</td>\n",
              "      <td>0</td>\n",
              "      <td>22</td>\n",
              "      <td>1</td>\n",
              "      <td>1</td>\n",
              "      <td>0</td>\n",
              "      <td>1</td>\n",
              "      <td>0</td>\n",
              "      <td>1</td>\n",
              "      <td>3</td>\n",
              "      <td>90.50</td>\n",
              "    </tr>\n",
              "    <tr>\n",
              "      <th>5598</th>\n",
              "      <td>1</td>\n",
              "      <td>0</td>\n",
              "      <td>1</td>\n",
              "      <td>55</td>\n",
              "      <td>1</td>\n",
              "      <td>0</td>\n",
              "      <td>0</td>\n",
              "      <td>0</td>\n",
              "      <td>0</td>\n",
              "      <td>2</td>\n",
              "      <td>4</td>\n",
              "      <td>19.15</td>\n",
              "    </tr>\n",
              "    <tr>\n",
              "      <th>5599</th>\n",
              "      <td>2</td>\n",
              "      <td>0</td>\n",
              "      <td>1</td>\n",
              "      <td>9</td>\n",
              "      <td>1</td>\n",
              "      <td>0</td>\n",
              "      <td>1</td>\n",
              "      <td>1</td>\n",
              "      <td>0</td>\n",
              "      <td>1</td>\n",
              "      <td>2</td>\n",
              "      <td>94.85</td>\n",
              "    </tr>\n",
              "  </tbody>\n",
              "</table>\n",
              "<p>5600 rows × 12 columns</p>\n",
              "</div>\n",
              "    <div class=\"colab-df-buttons\">\n",
              "\n",
              "  <div class=\"colab-df-container\">\n",
              "    <button class=\"colab-df-convert\" onclick=\"convertToInteractive('df-f22cdf38-db13-4e05-9a1d-c07e4fd83c13')\"\n",
              "            title=\"Convert this dataframe to an interactive table.\"\n",
              "            style=\"display:none;\">\n",
              "\n",
              "  <svg xmlns=\"http://www.w3.org/2000/svg\" height=\"24px\" viewBox=\"0 -960 960 960\">\n",
              "    <path d=\"M120-120v-720h720v720H120Zm60-500h600v-160H180v160Zm220 220h160v-160H400v160Zm0 220h160v-160H400v160ZM180-400h160v-160H180v160Zm440 0h160v-160H620v160ZM180-180h160v-160H180v160Zm440 0h160v-160H620v160Z\"/>\n",
              "  </svg>\n",
              "    </button>\n",
              "\n",
              "  <style>\n",
              "    .colab-df-container {\n",
              "      display:flex;\n",
              "      gap: 12px;\n",
              "    }\n",
              "\n",
              "    .colab-df-convert {\n",
              "      background-color: #E8F0FE;\n",
              "      border: none;\n",
              "      border-radius: 50%;\n",
              "      cursor: pointer;\n",
              "      display: none;\n",
              "      fill: #1967D2;\n",
              "      height: 32px;\n",
              "      padding: 0 0 0 0;\n",
              "      width: 32px;\n",
              "    }\n",
              "\n",
              "    .colab-df-convert:hover {\n",
              "      background-color: #E2EBFA;\n",
              "      box-shadow: 0px 1px 2px rgba(60, 64, 67, 0.3), 0px 1px 3px 1px rgba(60, 64, 67, 0.15);\n",
              "      fill: #174EA6;\n",
              "    }\n",
              "\n",
              "    .colab-df-buttons div {\n",
              "      margin-bottom: 4px;\n",
              "    }\n",
              "\n",
              "    [theme=dark] .colab-df-convert {\n",
              "      background-color: #3B4455;\n",
              "      fill: #D2E3FC;\n",
              "    }\n",
              "\n",
              "    [theme=dark] .colab-df-convert:hover {\n",
              "      background-color: #434B5C;\n",
              "      box-shadow: 0px 1px 3px 1px rgba(0, 0, 0, 0.15);\n",
              "      filter: drop-shadow(0px 1px 2px rgba(0, 0, 0, 0.3));\n",
              "      fill: #FFFFFF;\n",
              "    }\n",
              "  </style>\n",
              "\n",
              "    <script>\n",
              "      const buttonEl =\n",
              "        document.querySelector('#df-f22cdf38-db13-4e05-9a1d-c07e4fd83c13 button.colab-df-convert');\n",
              "      buttonEl.style.display =\n",
              "        google.colab.kernel.accessAllowed ? 'block' : 'none';\n",
              "\n",
              "      async function convertToInteractive(key) {\n",
              "        const element = document.querySelector('#df-f22cdf38-db13-4e05-9a1d-c07e4fd83c13');\n",
              "        const dataTable =\n",
              "          await google.colab.kernel.invokeFunction('convertToInteractive',\n",
              "                                                    [key], {});\n",
              "        if (!dataTable) return;\n",
              "\n",
              "        const docLinkHtml = 'Like what you see? Visit the ' +\n",
              "          '<a target=\"_blank\" href=https://colab.research.google.com/notebooks/data_table.ipynb>data table notebook</a>'\n",
              "          + ' to learn more about interactive tables.';\n",
              "        element.innerHTML = '';\n",
              "        dataTable['output_type'] = 'display_data';\n",
              "        await google.colab.output.renderOutput(dataTable, element);\n",
              "        const docLink = document.createElement('div');\n",
              "        docLink.innerHTML = docLinkHtml;\n",
              "        element.appendChild(docLink);\n",
              "      }\n",
              "    </script>\n",
              "  </div>\n",
              "\n",
              "\n",
              "<div id=\"df-a2c54c87-f174-4601-98d0-13a6f4d5975d\">\n",
              "  <button class=\"colab-df-quickchart\" onclick=\"quickchart('df-a2c54c87-f174-4601-98d0-13a6f4d5975d')\"\n",
              "            title=\"Suggest charts.\"\n",
              "            style=\"display:none;\">\n",
              "\n",
              "<svg xmlns=\"http://www.w3.org/2000/svg\" height=\"24px\"viewBox=\"0 0 24 24\"\n",
              "     width=\"24px\">\n",
              "    <g>\n",
              "        <path d=\"M19 3H5c-1.1 0-2 .9-2 2v14c0 1.1.9 2 2 2h14c1.1 0 2-.9 2-2V5c0-1.1-.9-2-2-2zM9 17H7v-7h2v7zm4 0h-2V7h2v10zm4 0h-2v-4h2v4z\"/>\n",
              "    </g>\n",
              "</svg>\n",
              "  </button>\n",
              "\n",
              "<style>\n",
              "  .colab-df-quickchart {\n",
              "      --bg-color: #E8F0FE;\n",
              "      --fill-color: #1967D2;\n",
              "      --hover-bg-color: #E2EBFA;\n",
              "      --hover-fill-color: #174EA6;\n",
              "      --disabled-fill-color: #AAA;\n",
              "      --disabled-bg-color: #DDD;\n",
              "  }\n",
              "\n",
              "  [theme=dark] .colab-df-quickchart {\n",
              "      --bg-color: #3B4455;\n",
              "      --fill-color: #D2E3FC;\n",
              "      --hover-bg-color: #434B5C;\n",
              "      --hover-fill-color: #FFFFFF;\n",
              "      --disabled-bg-color: #3B4455;\n",
              "      --disabled-fill-color: #666;\n",
              "  }\n",
              "\n",
              "  .colab-df-quickchart {\n",
              "    background-color: var(--bg-color);\n",
              "    border: none;\n",
              "    border-radius: 50%;\n",
              "    cursor: pointer;\n",
              "    display: none;\n",
              "    fill: var(--fill-color);\n",
              "    height: 32px;\n",
              "    padding: 0;\n",
              "    width: 32px;\n",
              "  }\n",
              "\n",
              "  .colab-df-quickchart:hover {\n",
              "    background-color: var(--hover-bg-color);\n",
              "    box-shadow: 0 1px 2px rgba(60, 64, 67, 0.3), 0 1px 3px 1px rgba(60, 64, 67, 0.15);\n",
              "    fill: var(--button-hover-fill-color);\n",
              "  }\n",
              "\n",
              "  .colab-df-quickchart-complete:disabled,\n",
              "  .colab-df-quickchart-complete:disabled:hover {\n",
              "    background-color: var(--disabled-bg-color);\n",
              "    fill: var(--disabled-fill-color);\n",
              "    box-shadow: none;\n",
              "  }\n",
              "\n",
              "  .colab-df-spinner {\n",
              "    border: 2px solid var(--fill-color);\n",
              "    border-color: transparent;\n",
              "    border-bottom-color: var(--fill-color);\n",
              "    animation:\n",
              "      spin 1s steps(1) infinite;\n",
              "  }\n",
              "\n",
              "  @keyframes spin {\n",
              "    0% {\n",
              "      border-color: transparent;\n",
              "      border-bottom-color: var(--fill-color);\n",
              "      border-left-color: var(--fill-color);\n",
              "    }\n",
              "    20% {\n",
              "      border-color: transparent;\n",
              "      border-left-color: var(--fill-color);\n",
              "      border-top-color: var(--fill-color);\n",
              "    }\n",
              "    30% {\n",
              "      border-color: transparent;\n",
              "      border-left-color: var(--fill-color);\n",
              "      border-top-color: var(--fill-color);\n",
              "      border-right-color: var(--fill-color);\n",
              "    }\n",
              "    40% {\n",
              "      border-color: transparent;\n",
              "      border-right-color: var(--fill-color);\n",
              "      border-top-color: var(--fill-color);\n",
              "    }\n",
              "    60% {\n",
              "      border-color: transparent;\n",
              "      border-right-color: var(--fill-color);\n",
              "    }\n",
              "    80% {\n",
              "      border-color: transparent;\n",
              "      border-right-color: var(--fill-color);\n",
              "      border-bottom-color: var(--fill-color);\n",
              "    }\n",
              "    90% {\n",
              "      border-color: transparent;\n",
              "      border-bottom-color: var(--fill-color);\n",
              "    }\n",
              "  }\n",
              "</style>\n",
              "\n",
              "  <script>\n",
              "    async function quickchart(key) {\n",
              "      const quickchartButtonEl =\n",
              "        document.querySelector('#' + key + ' button');\n",
              "      quickchartButtonEl.disabled = true;  // To prevent multiple clicks.\n",
              "      quickchartButtonEl.classList.add('colab-df-spinner');\n",
              "      try {\n",
              "        const charts = await google.colab.kernel.invokeFunction(\n",
              "            'suggestCharts', [key], {});\n",
              "      } catch (error) {\n",
              "        console.error('Error during call to suggestCharts:', error);\n",
              "      }\n",
              "      quickchartButtonEl.classList.remove('colab-df-spinner');\n",
              "      quickchartButtonEl.classList.add('colab-df-quickchart-complete');\n",
              "    }\n",
              "    (() => {\n",
              "      let quickchartButtonEl =\n",
              "        document.querySelector('#df-a2c54c87-f174-4601-98d0-13a6f4d5975d button');\n",
              "      quickchartButtonEl.style.display =\n",
              "        google.colab.kernel.accessAllowed ? 'block' : 'none';\n",
              "    })();\n",
              "  </script>\n",
              "</div>\n",
              "    </div>\n",
              "  </div>\n"
            ]
          },
          "metadata": {},
          "execution_count": 37
        }
      ]
    },
    {
      "cell_type": "code",
      "source": [
        "model_dt = DecisionTreeClassifier()\n",
        "model_dt.fit(X=X_train, y=y_train);\n"
      ],
      "metadata": {
        "id": "VgPTAjNp86MC"
      },
      "execution_count": 38,
      "outputs": []
    },
    {
      "cell_type": "code",
      "source": [
        "test_data = pd.read_csv('/content/drive/My Drive/Data Science for Business/Assignment_1-Test.csv')"
      ],
      "metadata": {
        "id": "EtRMMk7UEaF2"
      },
      "execution_count": 39,
      "outputs": []
    },
    {
      "cell_type": "code",
      "source": [
        "X_test = test_data.drop(columns = ['CustomerID','Churn'])\n",
        "X_test['Gender'] = X_test['Gender'].map({'Female' : 1, 'Male' : 2})\n",
        "X_test['Contract'] = X_test['Contract'].map({'Month-to-month' : 1, 'One year' : 2,'Two year':3})\n",
        "X_test['Payment Method']=X_test['Payment Method'].map({'Electronic check':1,'Mailed check':2,'Bank transfer (automatic)':3,'Credit card (automatic)':4})\n",
        "\n",
        "y_test = test_data['Churn']"
      ],
      "metadata": {
        "id": "XctLNyGoEj8P"
      },
      "execution_count": 40,
      "outputs": []
    },
    {
      "cell_type": "code",
      "source": [
        "model_dt.score(X=X_test, y=y_test)"
      ],
      "metadata": {
        "colab": {
          "base_uri": "https://localhost:8080/"
        },
        "id": "v9UF2gCoFGDd",
        "outputId": "e99ff2da-4d36-4786-84f6-eae1fa2aefb8"
      },
      "execution_count": 50,
      "outputs": [
        {
          "output_type": "execute_result",
          "data": {
            "text/plain": [
              "0.728587319243604"
            ]
          },
          "metadata": {},
          "execution_count": 50
        }
      ]
    },
    {
      "cell_type": "markdown",
      "metadata": {
        "id": "TYD_e_rDA3vr"
      },
      "source": [
        "The decision tree classifier model provides 73% accuracy on the unseen test data.\n",
        "\n",
        "\n",
        "\n"
      ]
    },
    {
      "cell_type": "code",
      "execution_count": 44,
      "metadata": {
        "id": "dVcm5lXr20Nb"
      },
      "outputs": [],
      "source": [
        "model_rf = RandomForestClassifier()\n",
        "model_rf.fit(X=X_train, y=y_train);"
      ]
    },
    {
      "cell_type": "code",
      "execution_count": 45,
      "metadata": {
        "colab": {
          "base_uri": "https://localhost:8080/"
        },
        "id": "80_KYVjD22ZD",
        "outputId": "98239f85-58f7-4b51-edb1-a918dad154b0"
      },
      "outputs": [
        {
          "output_type": "execute_result",
          "data": {
            "text/plain": [
              "0.7897664071190211"
            ]
          },
          "metadata": {},
          "execution_count": 45
        }
      ],
      "source": [
        "model_rf.score(X=X_test, y=y_test)"
      ]
    },
    {
      "cell_type": "markdown",
      "metadata": {
        "id": "bmzZykRPBDl1"
      },
      "source": [
        "The random forest model provides 79% accuracy on the unseen test data.\n"
      ]
    },
    {
      "cell_type": "code",
      "execution_count": 46,
      "metadata": {
        "colab": {
          "base_uri": "https://localhost:8080/"
        },
        "id": "EKnlO2_z91WU",
        "outputId": "003f6f6e-1bdb-4489-a49d-767c98818e1f"
      },
      "outputs": [
        {
          "output_type": "stream",
          "name": "stdout",
          "text": [
            "              precision    recall  f1-score   support\n",
            "\n",
            "           0       0.89      0.83      0.86       710\n",
            "           1       0.50      0.63      0.56       189\n",
            "\n",
            "    accuracy                           0.79       899\n",
            "   macro avg       0.70      0.73      0.71       899\n",
            "weighted avg       0.81      0.79      0.80       899\n",
            "\n"
          ]
        }
      ],
      "source": [
        "from sklearn.metrics import classification_report\n",
        "\n",
        "y_pred_rf= model_rf.predict(X_test)\n",
        "print(classification_report(y_pred_rf, y_test))"
      ]
    },
    {
      "cell_type": "code",
      "source": [
        "y_pred_dt= model_dt.predict(X_test)\n",
        "print(classification_report(y_pred_dt, y_test))"
      ],
      "metadata": {
        "colab": {
          "base_uri": "https://localhost:8080/"
        },
        "id": "mgjzD3j280FZ",
        "outputId": "798e58d7-55b3-4555-f878-a2297317ed6e"
      },
      "execution_count": 49,
      "outputs": [
        {
          "output_type": "stream",
          "name": "stdout",
          "text": [
            "              precision    recall  f1-score   support\n",
            "\n",
            "           0       0.83      0.81      0.82       681\n",
            "           1       0.45      0.49      0.46       218\n",
            "\n",
            "    accuracy                           0.73       899\n",
            "   macro avg       0.64      0.65      0.64       899\n",
            "weighted avg       0.74      0.73      0.73       899\n",
            "\n"
          ]
        }
      ]
    },
    {
      "cell_type": "markdown",
      "source": [
        "The random forest model is more accuracy with 79% accuracy because it has better precision(50%) and recall (63%) than the decisions tree model, precision(45%), and memory (49%), respectively."
      ],
      "metadata": {
        "id": "gkG7f6NK9oQH"
      }
    },
    {
      "cell_type": "markdown",
      "metadata": {
        "id": "zyAPSH5G7l_Q"
      },
      "source": [
        "### 7- Use SHAP values on the model that provides higher accuracy and show the indicator that has the most impact on the churn. Does higher values of this indicator result in higher churn?"
      ]
    },
    {
      "cell_type": "code",
      "source": [
        "!pip install shap"
      ],
      "metadata": {
        "colab": {
          "base_uri": "https://localhost:8080/"
        },
        "id": "KggyGDzmFjf9",
        "outputId": "95f2ff8d-a2a5-4856-bc64-640d234a150b"
      },
      "execution_count": null,
      "outputs": [
        {
          "output_type": "stream",
          "name": "stdout",
          "text": [
            "Collecting shap\n",
            "  Downloading shap-0.42.1-cp310-cp310-manylinux_2_12_x86_64.manylinux2010_x86_64.manylinux_2_17_x86_64.manylinux2014_x86_64.whl (547 kB)\n",
            "\u001b[?25l     \u001b[90m━━━━━━━━━━━━━━━━━━━━━━━━━━━━━━━━━━━━━━━━\u001b[0m \u001b[32m0.0/547.9 kB\u001b[0m \u001b[31m?\u001b[0m eta \u001b[36m-:--:--\u001b[0m\r\u001b[2K     \u001b[91m━━━━━━━━━━━\u001b[0m\u001b[91m╸\u001b[0m\u001b[90m━━━━━━━━━━━━━━━━━━━━━━━━━━━\u001b[0m \u001b[32m163.8/547.9 kB\u001b[0m \u001b[31m5.1 MB/s\u001b[0m eta \u001b[36m0:00:01\u001b[0m\r\u001b[2K     \u001b[91m━━━━━━━━━━━━━━━━━━━━━━━━━━━━━━━━━━━━━━\u001b[0m\u001b[91m╸\u001b[0m \u001b[32m542.7/547.9 kB\u001b[0m \u001b[31m8.4 MB/s\u001b[0m eta \u001b[36m0:00:01\u001b[0m\r\u001b[2K     \u001b[90m━━━━━━━━━━━━━━━━━━━━━━━━━━━━━━━━━━━━━━━\u001b[0m \u001b[32m547.9/547.9 kB\u001b[0m \u001b[31m7.1 MB/s\u001b[0m eta \u001b[36m0:00:00\u001b[0m\n",
            "\u001b[?25hRequirement already satisfied: numpy in /usr/local/lib/python3.10/dist-packages (from shap) (1.23.5)\n",
            "Requirement already satisfied: scipy in /usr/local/lib/python3.10/dist-packages (from shap) (1.11.3)\n",
            "Requirement already satisfied: scikit-learn in /usr/local/lib/python3.10/dist-packages (from shap) (1.2.2)\n",
            "Requirement already satisfied: pandas in /usr/local/lib/python3.10/dist-packages (from shap) (1.5.3)\n",
            "Requirement already satisfied: tqdm>=4.27.0 in /usr/local/lib/python3.10/dist-packages (from shap) (4.66.1)\n",
            "Requirement already satisfied: packaging>20.9 in /usr/local/lib/python3.10/dist-packages (from shap) (23.1)\n",
            "Collecting slicer==0.0.7 (from shap)\n",
            "  Downloading slicer-0.0.7-py3-none-any.whl (14 kB)\n",
            "Requirement already satisfied: numba in /usr/local/lib/python3.10/dist-packages (from shap) (0.56.4)\n",
            "Requirement already satisfied: cloudpickle in /usr/local/lib/python3.10/dist-packages (from shap) (2.2.1)\n",
            "Requirement already satisfied: llvmlite<0.40,>=0.39.0dev0 in /usr/local/lib/python3.10/dist-packages (from numba->shap) (0.39.1)\n",
            "Requirement already satisfied: setuptools in /usr/local/lib/python3.10/dist-packages (from numba->shap) (67.7.2)\n",
            "Requirement already satisfied: python-dateutil>=2.8.1 in /usr/local/lib/python3.10/dist-packages (from pandas->shap) (2.8.2)\n",
            "Requirement already satisfied: pytz>=2020.1 in /usr/local/lib/python3.10/dist-packages (from pandas->shap) (2023.3.post1)\n",
            "Requirement already satisfied: joblib>=1.1.1 in /usr/local/lib/python3.10/dist-packages (from scikit-learn->shap) (1.3.2)\n",
            "Requirement already satisfied: threadpoolctl>=2.0.0 in /usr/local/lib/python3.10/dist-packages (from scikit-learn->shap) (3.2.0)\n",
            "Requirement already satisfied: six>=1.5 in /usr/local/lib/python3.10/dist-packages (from python-dateutil>=2.8.1->pandas->shap) (1.16.0)\n",
            "Installing collected packages: slicer, shap\n",
            "Successfully installed shap-0.42.1 slicer-0.0.7\n"
          ]
        }
      ]
    },
    {
      "cell_type": "code",
      "execution_count": null,
      "metadata": {
        "colab": {
          "base_uri": "https://localhost:8080/"
        },
        "id": "zqvFe5VhuQB3",
        "outputId": "74b8777c-4260-4f02-f62e-f80409e66926"
      },
      "outputs": [
        {
          "output_type": "stream",
          "name": "stderr",
          "text": [
            "Using `tqdm.autonotebook.tqdm` in notebook mode. Use `tqdm.tqdm` instead to force console mode (e.g. in jupyter console)\n",
            "Permutation explainer: 900it [11:15,  1.33it/s]\n"
          ]
        }
      ],
      "source": [
        "import shap\n",
        "explainer = shap.Explainer(model_rf.predict, X_train)\n",
        "rf_shap_values = explainer(X_test)"
      ]
    },
    {
      "cell_type": "code",
      "source": [
        "shap.plots.bar(rf_shap_values)"
      ],
      "metadata": {
        "colab": {
          "base_uri": "https://localhost:8080/",
          "height": 585
        },
        "id": "AVkWrgekF0nT",
        "outputId": "b54c7ac3-5d81-42e8-c314-4f3cf06de8c8"
      },
      "execution_count": null,
      "outputs": [
        {
          "output_type": "display_data",
          "data": {
            "text/plain": [
              "<Figure size 800x650 with 1 Axes>"
            ],
            "image/png": "[encoded data removed]"
          },
          "metadata": {}
        }
      ]
    },
    {
      "cell_type": "markdown",
      "source": [
        "The Tenure is the most important indicator in user's churn."
      ],
      "metadata": {
        "id": "YPE1VQBT_hOL"
      }
    },
    {
      "cell_type": "code",
      "source": [
        "shap.plots.beeswarm(rf_shap_values)"
      ],
      "metadata": {
        "colab": {
          "base_uri": "https://localhost:8080/",
          "height": 532
        },
        "id": "AwR189yJF5F4",
        "outputId": "e73d9995-e69c-411d-8a8d-4a6026a47ddc"
      },
      "execution_count": null,
      "outputs": [
        {
          "output_type": "stream",
          "name": "stderr",
          "text": [
            "No data for colormapping provided via 'c'. Parameters 'vmin', 'vmax' will be ignored\n"
          ]
        },
        {
          "output_type": "display_data",
          "data": {
            "text/plain": [
              "<Figure size 800x550 with 2 Axes>"
            ],
            "image/png": "[encoded data removed]"
          },
          "metadata": {}
        }
      ]
    },
    {
      "cell_type": "markdown",
      "source": [
        "A high tenure has a negative effect on the desire to churn."
      ],
      "metadata": {
        "id": "hjOeKkiyAAFO"
      }
    },
    {
      "cell_type": "markdown",
      "metadata": {
        "id": "ZF9BD2wJTI_5"
      },
      "source": [
        "## Do not forget to download the IPython notebook and submit it on Moodle before 13h on October 4th. Please do not forget to indicate the online sources that you used and the people with whom you discussed the assignment (if any). Sharing of the code is not allowed."
      ]
    }
  ],
  "metadata": {
    "colab": {
      "provenance": []
    },
    "kernelspec": {
      "display_name": "Python 3",
      "language": "python",
      "name": "python3"
    },
    "language_info": {
      "codemirror_mode": {
        "name": "ipython",
        "version": 3
      },
      "file_extension": ".py",
      "mimetype": "text/x-python",
      "name": "python",
      "nbconvert_exporter": "python",
      "pygments_lexer": "ipython3",
      "version": "3.6.10"
    }
  },
  "nbformat": 4,
  "nbformat_minor": 0
}